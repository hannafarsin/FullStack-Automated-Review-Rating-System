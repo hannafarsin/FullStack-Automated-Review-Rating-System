{
 "cells": [
  {
   "cell_type": "markdown",
   "id": "bdde218a-bab6-4e88-bd3f-d1f8349cf1c5",
   "metadata": {},
   "source": [
    "### Import Required Libraries"
   ]
  },
  {
   "cell_type": "code",
   "execution_count": 2,
   "id": "11089383-da22-442f-ad22-8ed67ec7e3ce",
   "metadata": {},
   "outputs": [],
   "source": [
    "import pandas as pd\n",
    "import matplotlib.pyplot as plt\n",
    "import seaborn as sns\n",
    "from sklearn.utils import resample\n",
    "import string\n",
    "import re\n",
    "\n",
    "\n",
    "sns.set()"
   ]
  },
  {
   "cell_type": "markdown",
   "id": "d14bb44e-3cdb-4d4c-a108-ebb6ec23653d",
   "metadata": {},
   "source": [
    "### Load the Dataset"
   ]
  },
  {
   "cell_type": "code",
   "execution_count": 4,
   "id": "da4cdd63-8911-45c6-97f9-3e15ed623032",
   "metadata": {},
   "outputs": [
    {
     "data": {
      "text/html": [
       "<div>\n",
       "<style scoped>\n",
       "    .dataframe tbody tr th:only-of-type {\n",
       "        vertical-align: middle;\n",
       "    }\n",
       "\n",
       "    .dataframe tbody tr th {\n",
       "        vertical-align: top;\n",
       "    }\n",
       "\n",
       "    .dataframe thead th {\n",
       "        text-align: right;\n",
       "    }\n",
       "</style>\n",
       "<table border=\"1\" class=\"dataframe\">\n",
       "  <thead>\n",
       "    <tr style=\"text-align: right;\">\n",
       "      <th></th>\n",
       "      <th>Id</th>\n",
       "      <th>ProductId</th>\n",
       "      <th>UserId</th>\n",
       "      <th>ProfileName</th>\n",
       "      <th>HelpfulnessNumerator</th>\n",
       "      <th>HelpfulnessDenominator</th>\n",
       "      <th>Score</th>\n",
       "      <th>Time</th>\n",
       "      <th>Summary</th>\n",
       "      <th>Text</th>\n",
       "    </tr>\n",
       "  </thead>\n",
       "  <tbody>\n",
       "    <tr>\n",
       "      <th>0</th>\n",
       "      <td>1</td>\n",
       "      <td>B001E4KFG0</td>\n",
       "      <td>A3SGXH7AUHU8GW</td>\n",
       "      <td>delmartian</td>\n",
       "      <td>1</td>\n",
       "      <td>1</td>\n",
       "      <td>5</td>\n",
       "      <td>1303862400</td>\n",
       "      <td>Good Quality Dog Food</td>\n",
       "      <td>I have bought several of the Vitality canned d...</td>\n",
       "    </tr>\n",
       "    <tr>\n",
       "      <th>1</th>\n",
       "      <td>2</td>\n",
       "      <td>B00813GRG4</td>\n",
       "      <td>A1D87F6ZCVE5NK</td>\n",
       "      <td>dll pa</td>\n",
       "      <td>0</td>\n",
       "      <td>0</td>\n",
       "      <td>1</td>\n",
       "      <td>1346976000</td>\n",
       "      <td>Not as Advertised</td>\n",
       "      <td>Product arrived labeled as Jumbo Salted Peanut...</td>\n",
       "    </tr>\n",
       "    <tr>\n",
       "      <th>2</th>\n",
       "      <td>3</td>\n",
       "      <td>B000LQOCH0</td>\n",
       "      <td>ABXLMWJIXXAIN</td>\n",
       "      <td>Natalia Corres \"Natalia Corres\"</td>\n",
       "      <td>1</td>\n",
       "      <td>1</td>\n",
       "      <td>4</td>\n",
       "      <td>1219017600</td>\n",
       "      <td>\"Delight\" says it all</td>\n",
       "      <td>This is a confection that has been around a fe...</td>\n",
       "    </tr>\n",
       "    <tr>\n",
       "      <th>3</th>\n",
       "      <td>4</td>\n",
       "      <td>B000UA0QIQ</td>\n",
       "      <td>A395BORC6FGVXV</td>\n",
       "      <td>Karl</td>\n",
       "      <td>3</td>\n",
       "      <td>3</td>\n",
       "      <td>2</td>\n",
       "      <td>1307923200</td>\n",
       "      <td>Cough Medicine</td>\n",
       "      <td>If you are looking for the secret ingredient i...</td>\n",
       "    </tr>\n",
       "    <tr>\n",
       "      <th>4</th>\n",
       "      <td>5</td>\n",
       "      <td>B006K2ZZ7K</td>\n",
       "      <td>A1UQRSCLF8GW1T</td>\n",
       "      <td>Michael D. Bigham \"M. Wassir\"</td>\n",
       "      <td>0</td>\n",
       "      <td>0</td>\n",
       "      <td>5</td>\n",
       "      <td>1350777600</td>\n",
       "      <td>Great taffy</td>\n",
       "      <td>Great taffy at a great price.  There was a wid...</td>\n",
       "    </tr>\n",
       "    <tr>\n",
       "      <th>...</th>\n",
       "      <td>...</td>\n",
       "      <td>...</td>\n",
       "      <td>...</td>\n",
       "      <td>...</td>\n",
       "      <td>...</td>\n",
       "      <td>...</td>\n",
       "      <td>...</td>\n",
       "      <td>...</td>\n",
       "      <td>...</td>\n",
       "      <td>...</td>\n",
       "    </tr>\n",
       "    <tr>\n",
       "      <th>568449</th>\n",
       "      <td>568450</td>\n",
       "      <td>B001EO7N10</td>\n",
       "      <td>A28KG5XORO54AY</td>\n",
       "      <td>Lettie D. Carter</td>\n",
       "      <td>0</td>\n",
       "      <td>0</td>\n",
       "      <td>5</td>\n",
       "      <td>1299628800</td>\n",
       "      <td>Will not do without</td>\n",
       "      <td>Great for sesame chicken..this is a good if no...</td>\n",
       "    </tr>\n",
       "    <tr>\n",
       "      <th>568450</th>\n",
       "      <td>568451</td>\n",
       "      <td>B003S1WTCU</td>\n",
       "      <td>A3I8AFVPEE8KI5</td>\n",
       "      <td>R. Sawyer</td>\n",
       "      <td>0</td>\n",
       "      <td>0</td>\n",
       "      <td>2</td>\n",
       "      <td>1331251200</td>\n",
       "      <td>disappointed</td>\n",
       "      <td>I'm disappointed with the flavor. The chocolat...</td>\n",
       "    </tr>\n",
       "    <tr>\n",
       "      <th>568451</th>\n",
       "      <td>568452</td>\n",
       "      <td>B004I613EE</td>\n",
       "      <td>A121AA1GQV751Z</td>\n",
       "      <td>pksd \"pk_007\"</td>\n",
       "      <td>2</td>\n",
       "      <td>2</td>\n",
       "      <td>5</td>\n",
       "      <td>1329782400</td>\n",
       "      <td>Perfect for our maltipoo</td>\n",
       "      <td>These stars are small, so you can give 10-15 o...</td>\n",
       "    </tr>\n",
       "    <tr>\n",
       "      <th>568452</th>\n",
       "      <td>568453</td>\n",
       "      <td>B004I613EE</td>\n",
       "      <td>A3IBEVCTXKNOH</td>\n",
       "      <td>Kathy A. Welch \"katwel\"</td>\n",
       "      <td>1</td>\n",
       "      <td>1</td>\n",
       "      <td>5</td>\n",
       "      <td>1331596800</td>\n",
       "      <td>Favorite Training and reward treat</td>\n",
       "      <td>These are the BEST treats for training and rew...</td>\n",
       "    </tr>\n",
       "    <tr>\n",
       "      <th>568453</th>\n",
       "      <td>568454</td>\n",
       "      <td>B001LR2CU2</td>\n",
       "      <td>A3LGQPJCZVL9UC</td>\n",
       "      <td>srfell17</td>\n",
       "      <td>0</td>\n",
       "      <td>0</td>\n",
       "      <td>5</td>\n",
       "      <td>1338422400</td>\n",
       "      <td>Great Honey</td>\n",
       "      <td>I am very satisfied ,product is as advertised,...</td>\n",
       "    </tr>\n",
       "  </tbody>\n",
       "</table>\n",
       "<p>568454 rows × 10 columns</p>\n",
       "</div>"
      ],
      "text/plain": [
       "            Id   ProductId          UserId                      ProfileName  \\\n",
       "0            1  B001E4KFG0  A3SGXH7AUHU8GW                       delmartian   \n",
       "1            2  B00813GRG4  A1D87F6ZCVE5NK                           dll pa   \n",
       "2            3  B000LQOCH0   ABXLMWJIXXAIN  Natalia Corres \"Natalia Corres\"   \n",
       "3            4  B000UA0QIQ  A395BORC6FGVXV                             Karl   \n",
       "4            5  B006K2ZZ7K  A1UQRSCLF8GW1T    Michael D. Bigham \"M. Wassir\"   \n",
       "...        ...         ...             ...                              ...   \n",
       "568449  568450  B001EO7N10  A28KG5XORO54AY                 Lettie D. Carter   \n",
       "568450  568451  B003S1WTCU  A3I8AFVPEE8KI5                        R. Sawyer   \n",
       "568451  568452  B004I613EE  A121AA1GQV751Z                    pksd \"pk_007\"   \n",
       "568452  568453  B004I613EE   A3IBEVCTXKNOH          Kathy A. Welch \"katwel\"   \n",
       "568453  568454  B001LR2CU2  A3LGQPJCZVL9UC                         srfell17   \n",
       "\n",
       "        HelpfulnessNumerator  HelpfulnessDenominator  Score        Time  \\\n",
       "0                          1                       1      5  1303862400   \n",
       "1                          0                       0      1  1346976000   \n",
       "2                          1                       1      4  1219017600   \n",
       "3                          3                       3      2  1307923200   \n",
       "4                          0                       0      5  1350777600   \n",
       "...                      ...                     ...    ...         ...   \n",
       "568449                     0                       0      5  1299628800   \n",
       "568450                     0                       0      2  1331251200   \n",
       "568451                     2                       2      5  1329782400   \n",
       "568452                     1                       1      5  1331596800   \n",
       "568453                     0                       0      5  1338422400   \n",
       "\n",
       "                                   Summary  \\\n",
       "0                    Good Quality Dog Food   \n",
       "1                        Not as Advertised   \n",
       "2                    \"Delight\" says it all   \n",
       "3                           Cough Medicine   \n",
       "4                              Great taffy   \n",
       "...                                    ...   \n",
       "568449                 Will not do without   \n",
       "568450                        disappointed   \n",
       "568451            Perfect for our maltipoo   \n",
       "568452  Favorite Training and reward treat   \n",
       "568453                         Great Honey   \n",
       "\n",
       "                                                     Text  \n",
       "0       I have bought several of the Vitality canned d...  \n",
       "1       Product arrived labeled as Jumbo Salted Peanut...  \n",
       "2       This is a confection that has been around a fe...  \n",
       "3       If you are looking for the secret ingredient i...  \n",
       "4       Great taffy at a great price.  There was a wid...  \n",
       "...                                                   ...  \n",
       "568449  Great for sesame chicken..this is a good if no...  \n",
       "568450  I'm disappointed with the flavor. The chocolat...  \n",
       "568451  These stars are small, so you can give 10-15 o...  \n",
       "568452  These are the BEST treats for training and rew...  \n",
       "568453  I am very satisfied ,product is as advertised,...  \n",
       "\n",
       "[568454 rows x 10 columns]"
      ]
     },
     "execution_count": 4,
     "metadata": {},
     "output_type": "execute_result"
    }
   ],
   "source": [
    "df = pd.read_csv('Reviews.csv')\n",
    "df"
   ]
  },
  {
   "cell_type": "markdown",
   "id": "facb0959-435a-4cfc-aa57-8a10e1576282",
   "metadata": {},
   "source": [
    "### Exploratory Data Analysis"
   ]
  },
  {
   "cell_type": "code",
   "execution_count": 6,
   "id": "20c34bdb-2392-4b31-92e2-4b0c16bb54d0",
   "metadata": {},
   "outputs": [
    {
     "data": {
      "text/plain": [
       "Score\n",
       "5    363122\n",
       "4     80655\n",
       "1     52268\n",
       "3     42640\n",
       "2     29769\n",
       "Name: count, dtype: int64"
      ]
     },
     "execution_count": 6,
     "metadata": {},
     "output_type": "execute_result"
    }
   ],
   "source": [
    "df['Score'].value_counts()"
   ]
  },
  {
   "cell_type": "code",
   "execution_count": 7,
   "id": "0b505301-8582-48f5-9211-61a9043bed4f",
   "metadata": {},
   "outputs": [
    {
     "data": {
      "text/plain": [
       "Index(['Id', 'ProductId', 'UserId', 'ProfileName', 'HelpfulnessNumerator',\n",
       "       'HelpfulnessDenominator', 'Score', 'Time', 'Summary', 'Text'],\n",
       "      dtype='object')"
      ]
     },
     "execution_count": 7,
     "metadata": {},
     "output_type": "execute_result"
    }
   ],
   "source": [
    "df.columns"
   ]
  },
  {
   "cell_type": "code",
   "execution_count": 8,
   "id": "dbcb76b7-6fb6-41ff-9e3b-c0d1161227da",
   "metadata": {},
   "outputs": [
    {
     "data": {
      "text/plain": [
       "(568454, 10)"
      ]
     },
     "execution_count": 8,
     "metadata": {},
     "output_type": "execute_result"
    }
   ],
   "source": [
    "df.shape"
   ]
  },
  {
   "cell_type": "markdown",
   "id": "3e899b0e-f4f1-4dbc-9697-ec8e5992c71f",
   "metadata": {},
   "source": [
    "### Checking for Null values"
   ]
  },
  {
   "cell_type": "code",
   "execution_count": 10,
   "id": "0920de3a-bb17-4c6e-acdf-329d26945b33",
   "metadata": {},
   "outputs": [
    {
     "data": {
      "text/plain": [
       "Id                         0\n",
       "ProductId                  0\n",
       "UserId                     0\n",
       "ProfileName               26\n",
       "HelpfulnessNumerator       0\n",
       "HelpfulnessDenominator     0\n",
       "Score                      0\n",
       "Time                       0\n",
       "Summary                   27\n",
       "Text                       0\n",
       "dtype: int64"
      ]
     },
     "execution_count": 10,
     "metadata": {},
     "output_type": "execute_result"
    }
   ],
   "source": [
    "df.isnull().sum()"
   ]
  },
  {
   "cell_type": "code",
   "execution_count": 11,
   "id": "19fce879-605c-4061-b306-2afdede33f69",
   "metadata": {},
   "outputs": [],
   "source": [
    "df.dropna(subset={'Summary','ProfileName'},inplace=True)"
   ]
  },
  {
   "cell_type": "code",
   "execution_count": 12,
   "id": "20aad63b-887c-4133-b7c4-1f74d4bfebe5",
   "metadata": {},
   "outputs": [
    {
     "data": {
      "text/plain": [
       "Id                        0\n",
       "ProductId                 0\n",
       "UserId                    0\n",
       "ProfileName               0\n",
       "HelpfulnessNumerator      0\n",
       "HelpfulnessDenominator    0\n",
       "Score                     0\n",
       "Time                      0\n",
       "Summary                   0\n",
       "Text                      0\n",
       "dtype: int64"
      ]
     },
     "execution_count": 12,
     "metadata": {},
     "output_type": "execute_result"
    }
   ],
   "source": [
    "df.isnull().sum()"
   ]
  },
  {
   "cell_type": "code",
   "execution_count": 13,
   "id": "6c34daf3-f23a-43f1-b034-df5fbfc18a5f",
   "metadata": {},
   "outputs": [],
   "source": [
    "df.rename(columns={'Text':'review_text','Score':'Rating'}, inplace=True)"
   ]
  },
  {
   "cell_type": "code",
   "execution_count": 14,
   "id": "001a5991-d383-4ea5-a41d-672f5221d8e8",
   "metadata": {},
   "outputs": [],
   "source": [
    "df = df[['review_text','Rating','Summary']]"
   ]
  },
  {
   "cell_type": "code",
   "execution_count": 15,
   "id": "b87764c1-969f-40c3-aea7-69e94971d81a",
   "metadata": {},
   "outputs": [
    {
     "data": {
      "text/plain": [
       "(568401, 3)"
      ]
     },
     "execution_count": 15,
     "metadata": {},
     "output_type": "execute_result"
    }
   ],
   "source": [
    "df.shape"
   ]
  },
  {
   "cell_type": "markdown",
   "id": "7f418926-3fad-4d25-b2ea-c5e7f751fc1a",
   "metadata": {},
   "source": [
    "###  Clean Review Text (Punctuation, Spaces)"
   ]
  },
  {
   "cell_type": "code",
   "execution_count": 17,
   "id": "9881e6a7-3d31-48b1-9582-7091a0bb8326",
   "metadata": {},
   "outputs": [],
   "source": [
    "# 1. Pre-split cleaning: punctuation, emojis, spaces\n",
    "import re\n",
    "import string\n",
    "\n",
    "def basic_clean(text):\n",
    "    text = str(text).lower()  # Convert to lowercase\n",
    "    text = re.sub(r\"http\\S+|www\\S+|https\\S+\", '', text)         # Remove URLs\n",
    "    text = re.sub(r'<.*?>', '', text)                           # Remove HTML tags\n",
    "    text = re.sub(r'[^\\x00-\\x7F]', '', text)                    # Remove non-ASCII (emojis etc.)\n",
    "    text = re.sub(rf\"[{re.escape(string.punctuation)}]\", '', text)  # Remove all punctuation\n",
    "    text = re.sub(r'\\s+', ' ', text).strip()                    # Normalize whitespace\n",
    "    return text\n"
   ]
  },
  {
   "cell_type": "code",
   "execution_count": 18,
   "id": "c7586654-d1f9-471e-a5e5-9787a75b8fe2",
   "metadata": {},
   "outputs": [
    {
     "name": "stderr",
     "output_type": "stream",
     "text": [
      "C:\\Users\\TOSHIBA\\AppData\\Local\\Temp\\ipykernel_11100\\3377369185.py:1: SettingWithCopyWarning: \n",
      "A value is trying to be set on a copy of a slice from a DataFrame.\n",
      "Try using .loc[row_indexer,col_indexer] = value instead\n",
      "\n",
      "See the caveats in the documentation: https://pandas.pydata.org/pandas-docs/stable/user_guide/indexing.html#returning-a-view-versus-a-copy\n",
      "  df['review_text'] = df['review_text'].apply(basic_clean)\n",
      "C:\\Users\\TOSHIBA\\AppData\\Local\\Temp\\ipykernel_11100\\3377369185.py:2: SettingWithCopyWarning: \n",
      "A value is trying to be set on a copy of a slice from a DataFrame.\n",
      "Try using .loc[row_indexer,col_indexer] = value instead\n",
      "\n",
      "See the caveats in the documentation: https://pandas.pydata.org/pandas-docs/stable/user_guide/indexing.html#returning-a-view-versus-a-copy\n",
      "  df['Summary'] = df['Summary'].apply(basic_clean)\n"
     ]
    }
   ],
   "source": [
    "df['review_text'] = df['review_text'].apply(basic_clean)\n",
    "df['Summary'] = df['Summary'].apply(basic_clean)\n"
   ]
  },
  {
   "cell_type": "code",
   "execution_count": 19,
   "id": "6a145164-3f49-411e-9d4b-7dddf315931c",
   "metadata": {},
   "outputs": [
    {
     "name": "stdout",
     "output_type": "stream",
     "text": [
      "0    i have bought several of the vitality canned d...\n",
      "1    product arrived labeled as jumbo salted peanut...\n",
      "2    this is a confection that has been around a fe...\n",
      "3    if you are looking for the secret ingredient i...\n",
      "4    great taffy at a great price there was a wide ...\n",
      "Name: review_text, dtype: object\n"
     ]
    }
   ],
   "source": [
    "print(df['review_text'].head())"
   ]
  },
  {
   "cell_type": "markdown",
   "id": "87e6621d-0012-4f05-ad24-6e5cd6002d53",
   "metadata": {},
   "source": [
    "### Checking  for Duplicate values"
   ]
  },
  {
   "cell_type": "code",
   "execution_count": 21,
   "id": "c5bfb17b-7841-480a-8021-82441d3673f2",
   "metadata": {},
   "outputs": [
    {
     "data": {
      "text/plain": [
       "173916"
      ]
     },
     "execution_count": 21,
     "metadata": {},
     "output_type": "execute_result"
    }
   ],
   "source": [
    "df.duplicated().sum()"
   ]
  },
  {
   "cell_type": "code",
   "execution_count": 22,
   "id": "fc13c8d9-de4b-491f-95cb-5516bad1dde9",
   "metadata": {},
   "outputs": [
    {
     "name": "stdout",
     "output_type": "stream",
     "text": [
      "                                           review_text  Rating  \\\n",
      "3    if you are looking for the secret ingredient i...       2   \n",
      "10   i dont know if its the cactus or the tequila o...       5   \n",
      "29   i dont know if its the cactus or the tequila o...       5   \n",
      "68   if youre impulsive like me then 6 is ok dont g...       3   \n",
      "69   this was sooooo deliscious but too bad i ate e...       5   \n",
      "73   buyer beware please this sweetener is not for ...       1   \n",
      "96   my 112 year old basenjijack russell mix loves ...       5   \n",
      "100  the mouth says how do i love thee let me count...       5   \n",
      "101  arrived slightly thawed my parents wouldnt acc...       4   \n",
      "102  the crust on these tarts are perfect my husban...       4   \n",
      "\n",
      "                                               Summary  \n",
      "3                                       cough medicine  \n",
      "10                     the best hot sauce in the world  \n",
      "29                     the best hot sauce in the world  \n",
      "68   how much would you pay for a bag of chocolate ...  \n",
      "69                                       pretzel haven  \n",
      "73                      warning warning alcohol sugars  \n",
      "96                                      great dog food  \n",
      "100                     taste wise it is a 6 star item  \n",
      "101                                      great support  \n",
      "102                                               tart  \n"
     ]
    }
   ],
   "source": [
    "# Example with keep=False to see all duplicates (first + later)\n",
    "print(df[df.duplicated(keep=False)].head(10))\n",
    "\n"
   ]
  },
  {
   "cell_type": "code",
   "execution_count": 23,
   "id": "879f032d-fda9-413a-aca0-e7517a610dab",
   "metadata": {},
   "outputs": [],
   "source": [
    "df= df.drop_duplicates(keep='first')"
   ]
  },
  {
   "cell_type": "code",
   "execution_count": 24,
   "id": "66e42950-61d9-4b76-ad15-231b1930cd30",
   "metadata": {},
   "outputs": [
    {
     "data": {
      "text/plain": [
       "(394485, 3)"
      ]
     },
     "execution_count": 24,
     "metadata": {},
     "output_type": "execute_result"
    }
   ],
   "source": [
    "df.shape"
   ]
  },
  {
   "cell_type": "markdown",
   "id": "9a340f31-c006-4bfb-9084-2ce9b91e3bfd",
   "metadata": {},
   "source": [
    "#### Statistics of Rating"
   ]
  },
  {
   "cell_type": "code",
   "execution_count": 26,
   "id": "ac6ec312-16d3-4a5a-97b5-0db5b64dca5f",
   "metadata": {},
   "outputs": [
    {
     "data": {
      "text/html": [
       "<div>\n",
       "<style scoped>\n",
       "    .dataframe tbody tr th:only-of-type {\n",
       "        vertical-align: middle;\n",
       "    }\n",
       "\n",
       "    .dataframe tbody tr th {\n",
       "        vertical-align: top;\n",
       "    }\n",
       "\n",
       "    .dataframe thead th {\n",
       "        text-align: right;\n",
       "    }\n",
       "</style>\n",
       "<table border=\"1\" class=\"dataframe\">\n",
       "  <thead>\n",
       "    <tr style=\"text-align: right;\">\n",
       "      <th></th>\n",
       "      <th>Rating</th>\n",
       "    </tr>\n",
       "  </thead>\n",
       "  <tbody>\n",
       "    <tr>\n",
       "      <th>count</th>\n",
       "      <td>394485.000000</td>\n",
       "    </tr>\n",
       "    <tr>\n",
       "      <th>mean</th>\n",
       "      <td>4.179066</td>\n",
       "    </tr>\n",
       "    <tr>\n",
       "      <th>std</th>\n",
       "      <td>1.312351</td>\n",
       "    </tr>\n",
       "    <tr>\n",
       "      <th>min</th>\n",
       "      <td>1.000000</td>\n",
       "    </tr>\n",
       "    <tr>\n",
       "      <th>25%</th>\n",
       "      <td>4.000000</td>\n",
       "    </tr>\n",
       "    <tr>\n",
       "      <th>50%</th>\n",
       "      <td>5.000000</td>\n",
       "    </tr>\n",
       "    <tr>\n",
       "      <th>75%</th>\n",
       "      <td>5.000000</td>\n",
       "    </tr>\n",
       "    <tr>\n",
       "      <th>max</th>\n",
       "      <td>5.000000</td>\n",
       "    </tr>\n",
       "  </tbody>\n",
       "</table>\n",
       "</div>"
      ],
      "text/plain": [
       "              Rating\n",
       "count  394485.000000\n",
       "mean        4.179066\n",
       "std         1.312351\n",
       "min         1.000000\n",
       "25%         4.000000\n",
       "50%         5.000000\n",
       "75%         5.000000\n",
       "max         5.000000"
      ]
     },
     "execution_count": 26,
     "metadata": {},
     "output_type": "execute_result"
    }
   ],
   "source": [
    "df.describe()"
   ]
  },
  {
   "cell_type": "markdown",
   "id": "fee55fb9-a059-4413-a6cd-2ee0dc11e5b3",
   "metadata": {},
   "source": [
    "### Remove Conflicting Reviews (Same text, different ratings)"
   ]
  },
  {
   "cell_type": "code",
   "execution_count": 28,
   "id": "28a3dcba-51de-4759-a57b-fd98ddf1e048",
   "metadata": {},
   "outputs": [
    {
     "name": "stdout",
     "output_type": "stream",
     "text": [
      "                                              review_text  Rating  \\\n",
      "446363                                                          4   \n",
      "101732                                                          5   \n",
      "93595                                                           5   \n",
      "346479                                                          5   \n",
      "109186  a few years ago my cat was diagnosed with food...       4   \n",
      "6000    a few years ago my cat was diagnosed with food...       5   \n",
      "207539  a ming dynasty ad 1368 1644 creation believed ...       4   \n",
      "78744   a ming dynasty ad 1368 1644 creation believed ...       5   \n",
      "73957   after trying both the chipotle as well as the ...       5   \n",
      "313809  after trying both the chipotle as well as the ...       4   \n",
      "\n",
      "                                                  Summary  \n",
      "446363                                  works as promised  \n",
      "101732                                   starbucks tdiscs  \n",
      "93595   great buy by buying in bulk and autoship it cu...  \n",
      "346479                                    producte review  \n",
      "109186                      even mr biwitch moan loves it  \n",
      "6000                        even mr biwitch moan loves it  \n",
      "207539                      a rich flower garden in bloom  \n",
      "78744                       a rich flower garden in bloom  \n",
      "73957                         delicious at home taco bell  \n",
      "313809                        delicious at home taco bell  \n"
     ]
    }
   ],
   "source": [
    "# Find reviews with more than 1 unique rating\n",
    "conflicting_reviews_text = (\n",
    "    df.groupby('review_text')['Rating']\n",
    "      .nunique()\n",
    "      .reset_index()\n",
    ")\n",
    "\n",
    "# Keep only those with more than 1 unique rating\n",
    "# Group and filter for reviews with more than 1 unique rating\n",
    "conflicting_reviews = df.groupby('review_text').filter(lambda x: x['Rating'].nunique() > 1)\n",
    "\n",
    "# Print them sorted for easy comparison\n",
    "print(conflicting_reviews.sort_values('review_text').head(10))\n"
   ]
  },
  {
   "cell_type": "code",
   "execution_count": 29,
   "id": "9574a71e-bc4e-42dd-826a-a8574516d841",
   "metadata": {},
   "outputs": [
    {
     "name": "stdout",
     "output_type": "stream",
     "text": [
      "Original size: 394485\n",
      "Without conflicts: 394216\n"
     ]
    }
   ],
   "source": [
    "# Group by review_text and check if more than 1 unique rating exists\n",
    "conflict_mask = df.groupby('review_text')['Rating'].transform('nunique') > 1\n",
    "\n",
    "# Keep only non-conflicting rows\n",
    "df_no_conflict = df[~conflict_mask]\n",
    "\n",
    "print(\"Original size:\", len(df))\n",
    "print(\"Without conflicts:\", len(df_no_conflict))\n"
   ]
  },
  {
   "cell_type": "code",
   "execution_count": 30,
   "id": "1b50a982-a1bf-4e48-843c-9441a817a0f4",
   "metadata": {},
   "outputs": [
    {
     "data": {
      "text/plain": [
       "Rating\n",
       "5    251218\n",
       "4     56053\n",
       "1     36385\n",
       "3     29763\n",
       "2     20797\n",
       "Name: count, dtype: int64"
      ]
     },
     "execution_count": 30,
     "metadata": {},
     "output_type": "execute_result"
    }
   ],
   "source": [
    "df_no_conflict['Rating'].value_counts()"
   ]
  },
  {
   "cell_type": "code",
   "execution_count": 31,
   "id": "448e8033-bc9c-4b76-b7d2-dca075844b0f",
   "metadata": {},
   "outputs": [
    {
     "name": "stdout",
     "output_type": "stream",
     "text": [
      "Max unique ratings per reviewText: 1\n"
     ]
    }
   ],
   "source": [
    "# Confirm no conflicts remain\n",
    "check = df_no_conflict.groupby('review_text')['Rating'].nunique()\n",
    "print(\"Max unique ratings per reviewText:\", check.max())"
   ]
  },
  {
   "cell_type": "markdown",
   "id": "c24e6572-4af7-41b2-9308-c0901bef8f91",
   "metadata": {},
   "source": [
    "## Data Visualisation\n",
    "#### Rating distribuion before balancing"
   ]
  },
  {
   "cell_type": "code",
   "execution_count": 33,
   "id": "debf6097-1a2e-48c4-88f9-f69f13aaedfb",
   "metadata": {},
   "outputs": [
    {
     "data": {
      "image/png": "[encoded data removed]",
      "text/plain": [
       "<Figure size 800x500 with 1 Axes>"
      ]
     },
     "metadata": {},
     "output_type": "display_data"
    }
   ],
   "source": [
    "plt.figure(figsize=(8, 5))\n",
    "sns.countplot(x='Rating', data=df_no_conflict)\n",
    "plt.title(\"Rating Distribution (Before Balancing)\")\n",
    "plt.xlabel(\"Rating\")\n",
    "plt.ylabel(\"Number of Reviews\")\n",
    "plt.show()"
   ]
  },
  {
   "cell_type": "markdown",
   "id": "93d17220-2312-43a6-acc5-12d98339f058",
   "metadata": {},
   "source": [
    "### Pie chart showing the rating percentage distribution"
   ]
  },
  {
   "cell_type": "code",
   "execution_count": 35,
   "id": "9bc31216-e81e-4279-ad4d-829ba4c6c2e9",
   "metadata": {},
   "outputs": [],
   "source": [
    "rating_counts = df_no_conflict['Rating'].value_counts().sort_index()"
   ]
  },
  {
   "cell_type": "code",
   "execution_count": 36,
   "id": "ad9440b1-c58c-4f33-8c86-342b99052548",
   "metadata": {},
   "outputs": [
    {
     "data": {
      "image/png": "[encoded data removed]",
      "text/plain": [
       "<Figure size 700x700 with 1 Axes>"
      ]
     },
     "metadata": {},
     "output_type": "display_data"
    }
   ],
   "source": [
    "# Labels and sizes\n",
    "labels = rating_counts.index.astype(str)\n",
    "sizes = rating_counts.values\n",
    "\n",
    "# Plot pie chart\n",
    "plt.figure(figsize=(7, 7))\n",
    "plt.pie(sizes, labels=labels, autopct='%1.1f%%', startangle=140, colors=plt.cm.Pastel1.colors)\n",
    "plt.title('Distribution of Review Ratings')\n",
    "plt.axis('equal')  # Equal aspect ratio makes the pie chart circular\n",
    "plt.show()"
   ]
  },
  {
   "cell_type": "code",
   "execution_count": 37,
   "id": "58236003-2f9e-4721-b791-32e58f2a704b",
   "metadata": {},
   "outputs": [
    {
     "name": "stderr",
     "output_type": "stream",
     "text": [
      "C:\\Users\\TOSHIBA\\AppData\\Local\\Temp\\ipykernel_11100\\988516497.py:1: SettingWithCopyWarning: \n",
      "A value is trying to be set on a copy of a slice from a DataFrame.\n",
      "Try using .loc[row_indexer,col_indexer] = value instead\n",
      "\n",
      "See the caveats in the documentation: https://pandas.pydata.org/pandas-docs/stable/user_guide/indexing.html#returning-a-view-versus-a-copy\n",
      "  df_no_conflict['review_length'] = df_no_conflict['review_text'].str.split().str.len()\n"
     ]
    },
    {
     "data": {
      "image/png": "[encoded data removed]",
      "text/plain": [
       "<Figure size 1000x500 with 1 Axes>"
      ]
     },
     "metadata": {},
     "output_type": "display_data"
    }
   ],
   "source": [
    "df_no_conflict['review_length'] = df_no_conflict['review_text'].str.split().str.len()\n",
    "\n",
    "plt.figure(figsize=(10, 5))\n",
    "sns.histplot(data=df_no_conflict, x='review_length', bins=50, kde=True)\n",
    "\n",
    "\n",
    "plt.xlim(0, 800)  \n",
    "\n",
    "plt.title(\"Review Length Distribution (Zoomed)\")\n",
    "plt.xlabel(\"Number of Words\")\n",
    "plt.ylabel(\"Number of Reviews\")\n",
    "plt.show()"
   ]
  },
  {
   "cell_type": "code",
   "execution_count": 38,
   "id": "81268744-6e5b-4cbe-8981-6238dd0a3906",
   "metadata": {},
   "outputs": [
    {
     "data": {
      "text/plain": [
       "Rating\n",
       "5    251218\n",
       "4     56053\n",
       "1     36385\n",
       "3     29763\n",
       "2     20797\n",
       "Name: count, dtype: int64"
      ]
     },
     "execution_count": 38,
     "metadata": {},
     "output_type": "execute_result"
    }
   ],
   "source": [
    "df_no_conflict['Rating'].value_counts()"
   ]
  },
  {
   "cell_type": "code",
   "execution_count": 39,
   "id": "ed3d4474-f3ff-4bd5-b943-da2d4d8a482c",
   "metadata": {},
   "outputs": [],
   "source": [
    "df_filtered = df_no_conflict[\n",
    "    (df_no_conflict['review_length'] > 3) & \n",
    "    (df_no_conflict['review_length'] <= 500)\n",
    "]"
   ]
  },
  {
   "cell_type": "code",
   "execution_count": 40,
   "id": "c25eea2b-3f88-4490-8ccc-e283c4ba9eb0",
   "metadata": {},
   "outputs": [
    {
     "name": "stdout",
     "output_type": "stream",
     "text": [
      "Before filtering: 394216\n",
      "After filtering: 392862\n"
     ]
    }
   ],
   "source": [
    "print(\"Before filtering:\", len(df_no_conflict))\n",
    "print(\"After filtering:\", len(df_filtered))"
   ]
  },
  {
   "cell_type": "code",
   "execution_count": 41,
   "id": "709e321e-2dd6-4daa-aaf6-796bcbf2df86",
   "metadata": {},
   "outputs": [
    {
     "data": {
      "text/plain": [
       "Rating\n",
       "5    250500\n",
       "4     55770\n",
       "1     36250\n",
       "3     29632\n",
       "2     20710\n",
       "Name: count, dtype: int64"
      ]
     },
     "execution_count": 41,
     "metadata": {},
     "output_type": "execute_result"
    }
   ],
   "source": [
    "df_filtered['Rating'].value_counts()"
   ]
  },
  {
   "cell_type": "code",
   "execution_count": 42,
   "id": "70bf5616-f3bf-41e8-b0e5-73b8431bef85",
   "metadata": {},
   "outputs": [],
   "source": [
    "# Define your target counts (imbalance)\n",
    "target_counts = {\n",
    "    1: 12600,\n",
    "    2: 20710,\n",
    "    3: 29632,\n",
    "    4: 37775,\n",
    "    5: 25184\n",
    "}\n",
    "\n",
    "# Collect sampled data\n",
    "imbalanced_data = []\n",
    "\n",
    "# Sample from each class\n",
    "for rating, count in target_counts.items():\n",
    "    # Filter the class\n",
    "    class_df = df_filtered[df_filtered['Rating'] == rating]\n",
    "\n",
    "    # Sample without replacement (random_state for reproducibility)\n",
    "    sampled = class_df.sample(n=count, random_state=42)\n",
    "\n",
    "    # Append to list\n",
    "    imbalanced_data.append(sampled)\n",
    "\n",
    "# Concatenate all into one final imbalanced dataset\n",
    "df_imbalanced = pd.concat(imbalanced_data).reset_index(drop=True)\n",
    "\n",
    "# Shuffle the final dataset\n",
    "df_imbalanced = df_imbalanced.sample(frac=1, random_state=42).reset_index(drop=True)"
   ]
  },
  {
   "cell_type": "code",
   "execution_count": 43,
   "id": "74e01994-56f4-4f8c-a876-fdbcdf3c9bd9",
   "metadata": {},
   "outputs": [],
   "source": [
    "#df_imbalanced.to_csv('fullstack-imbalanced-dataset.csv')"
   ]
  },
  {
   "cell_type": "code",
   "execution_count": 44,
   "id": "82d1105b-b8b9-45c6-b8ad-87c374642369",
   "metadata": {},
   "outputs": [
    {
     "name": "stdout",
     "output_type": "stream",
     "text": [
      "          count       mean        std  min   25%   50%    75%    max\n",
      "Rating                                                              \n",
      "1       12600.0  78.237619  62.497398  5.0  36.0  60.0   98.0  496.0\n",
      "2       20710.0  85.778513  67.255962  6.0  39.0  66.0  109.0  499.0\n",
      "3       29632.0  91.213890  73.107557  5.0  40.0  69.0  118.0  500.0\n",
      "4       37775.0  86.542634  71.288141  6.0  37.0  64.0  111.0  499.0\n",
      "5       25184.0  71.448499  60.951134  7.0  32.0  52.0   88.0  500.0\n"
     ]
    }
   ],
   "source": [
    "df_imbalanced['word_count'] = df_imbalanced['review_text'].apply(lambda x: len(str(x).split()))\n",
    "#display the statistics of the word count\n",
    "min_word_counts = df_imbalanced.groupby('Rating')['word_count'].describe()\n",
    "print(min_word_counts)\n"
   ]
  },
  {
   "cell_type": "code",
   "execution_count": 45,
   "id": "2e7ad5c1-996a-4929-bb42-aa9b0151e4f3",
   "metadata": {},
   "outputs": [
    {
     "name": "stdout",
     "output_type": "stream",
     "text": [
      "Rating: 1\n",
      "Number of unique words: 35197\n",
      "Top 10 most frequent words: [('the', 45667), ('i', 36265), ('and', 26205), ('a', 22948), ('to', 22941), ('it', 21088), ('of', 18385), ('this', 17673), ('is', 14697), ('not', 13114)]\n",
      "\n",
      "Rating: 2\n",
      "Number of unique words: 48876\n",
      "Top 10 most frequent words: [('the', 84943), ('i', 64371), ('and', 44802), ('a', 44682), ('to', 41054), ('it', 39849), ('of', 34686), ('this', 27748), ('is', 26577), ('not', 25187)]\n",
      "\n",
      "Rating: 3\n",
      "Number of unique words: 64340\n",
      "Top 10 most frequent words: [('the', 127184), ('i', 91012), ('a', 76466), ('and', 64847), ('to', 62840), ('it', 60488), ('of', 52382), ('is', 44559), ('this', 37804), ('but', 37716)]\n",
      "\n",
      "Rating: 4\n",
      "Number of unique words: 73476\n",
      "Top 10 most frequent words: [('the', 143906), ('a', 103064), ('i', 102088), ('and', 88775), ('to', 75905), ('it', 71517), ('of', 61980), ('is', 57937), ('this', 45893), ('for', 44125)]\n",
      "\n",
      "Rating: 5\n",
      "Number of unique words: 50180\n",
      "Top 10 most frequent words: [('the', 72767), ('i', 59083), ('and', 57473), ('a', 50417), ('to', 41655), ('it', 38871), ('of', 31259), ('is', 31129), ('this', 29135), ('for', 24691)]\n",
      "\n"
     ]
    }
   ],
   "source": [
    "from collections import Counter\n",
    "\n",
    "ratings = sorted(df_imbalanced['Rating'].unique())\n",
    "\n",
    "for r in ratings:\n",
    "    # Combine review_text and summary for this rating\n",
    "    texts = df_imbalanced[df_imbalanced['Rating'] == r][['review_text', 'Summary']]\n",
    "    \n",
    "    # Combine all text into a single string\n",
    "    all_text = ' '.join(texts['review_text'].astype(str)) + ' ' + ' '.join(texts['Summary'].astype(str))\n",
    "    \n",
    "    # Optional: simple preprocessing (lowercase, remove punctuation)\n",
    "    all_text = all_text.lower()\n",
    "    all_text = ''.join(c for c in all_text if c.isalnum() or c.isspace())\n",
    "    \n",
    "    # Split into words\n",
    "    words = all_text.split()\n",
    "    \n",
    "    # Unique words and counts\n",
    "    unique_words = set(words)\n",
    "    word_counts = Counter(words)\n",
    "    \n",
    "    print(f\"Rating: {r}\")\n",
    "    print(f\"Number of unique words: {len(unique_words)}\")\n",
    "    print(f\"Top 10 most frequent words: {word_counts.most_common(10)}\\n\")\n"
   ]
  },
  {
   "cell_type": "code",
   "execution_count": 46,
   "id": "1e710d64-a047-4030-9fcd-9739498968cb",
   "metadata": {},
   "outputs": [
    {
     "name": "stdout",
     "output_type": "stream",
     "text": [
      "\n",
      "===== Rating 1 =====\n",
      "Review: zico used to be my coconut water of choice when i first saw the new packaging i was excited that it would be easier to close and store i was shocked when i tasted it it is not the same product the taste really turned me off ive since switched to one coconut wateri also determined that the new bottle size is too big of a serving i like to drink coconut water before going to the gym because ive found it helps with endurance it is not as convenient for me to carry the larger by about 3 oz bottle especially since i cant finish the entire thing in one sitting\n",
      "Summary: bad product update\n",
      "--------------------------------------------------\n",
      "Review: this tastes nothing like coffee and you cant return it even adding creamer doesnt help the risk wasnt worth it\n",
      "Summary: horrible\n",
      "--------------------------------------------------\n",
      "Review: dont believe you are getting tippy golden assam as the picture on the box suggestsonce again i was deceived in believing that the little picture on the box is the actual end product i will be getting this is the second time the tao of tea had me fooled with misleading good looking picture of full leaf tea on the box only to discover extremely low quality leaf inside the boxthis assam is pretty bad\n",
      "Summary: this assam is pretty bad\n",
      "--------------------------------------------------\n",
      "Review: corn and soy make up the bulk of this product and are two of the worst allergens for dogs in addition you have cheap fillers like brewers rice and meat byproducts which are low quality ingredients please do your pet a favor and purchase them a healthier dog food\n",
      "Summary: terrible quality dog food\n",
      "--------------------------------------------------\n",
      "Review: ive tried the roland sun dried tomatoes in garlic and olive oil previously and they were good i thought i would try these next i ordered these a couple of months ago and decided to open them up and put these in a salad one bite and i spit them out these tasted like plastic and i was concerned that i was going to get poisoned i dont know if being vacuum packed in a thick plastic bag is the best thing the whole 5 lb bag is sitting in my outside garbage my money was wasted which is a shame since ive tried other roland products and have been very pleased especially there balsalmic glaze\n",
      "Summary: bad these are just bad\n",
      "--------------------------------------------------\n",
      "Review: i place an order for this kit on december first and was told it should arrive on the 6th ive not received my product not heard from the manufacturers not able to find a number or anything for me to contact them and want this product for my brother for christmas so if anyone could help me i would appreciate it this is my first time every using amazon before as well not such a good first impression\n",
      "Summary: where is it\n",
      "--------------------------------------------------\n",
      "Review: dont surprised if they mess up your order then give you a hard time about it\n",
      "Summary: bad news\n",
      "--------------------------------------------------\n",
      "Review: my puppy loves greenies pillpockets as a regular treat when i first discovered this it was at the vets office and they used the beef flavored ones eventually i decided to see how she would like the duck and pea flavor but when i opened the bag the odor from these treats made me my roommate and my boyfriend gag even the dog was less excitedand she loves and i mean loves the beef pill pockets i set out one of each just to see what shed go for and my vacuum cleaner of a dog went straight for the beef shell eat the duck one but only if thats the only thing available i had planned on trying the chicken flavor at some point too but after this i think well be sticking with beef\n",
      "Summary: worst smelling treat for dogs\n",
      "--------------------------------------------------\n",
      "Review: i always order this coffee on thursday and get it delivered prime by saturday last thursday i ordered it and they had taken away prime and charged me 700 shipping it is wednesday and i am still waiting for my coffee i will not order again unless they prime ship again\n",
      "Summary: great coffee but what happened to prime shipping\n",
      "--------------------------------------------------\n",
      "Review: the bags in this variety pack are not big grab bags as stated in the title the value of this product is far less than it would have been if these were actually the much larger big grab bags these small 1 oz bags can be purchased for 2025 cents each at various warehouse clubs no bargain here\n",
      "Summary: bags are the small 1 oz bags not big grab bags\n",
      "--------------------------------------------------\n",
      "Review: this is supposed to be a pretty basic and standard cup of coffee for the krups machine but was undrinkable i will take green mountain coffee over this any day even my husband who is not picky with his coffee at all could not drink this he even tried putting creamer and sugar and could not disguise the taste\n",
      "Summary: basic disguistgo green mountain\n",
      "--------------------------------------------------\n",
      "Review: i just had this stuff for lunch and its terrible the noodles are okay the dehydrated vegetables were fine not as many as pictured though but the sauce is so gross it tastes nothing like teriyaki it also smells like crap im getting sick just from the smelli took one bite and that was it not buying this product ever again ill stick with ramen thank you\n",
      "Summary: gross\n",
      "--------------------------------------------------\n",
      "Review: im a big fan of the wolfgang puck chicken and egg noodle soup so i decided to try this there were about 7 tiny pieces of dumpling 2 tiny pieces of chicken and maybe 12 tiny pieces of carrots expect to be very hungry after eating a can of this\n",
      "Summary: 90 liquid\n",
      "--------------------------------------------------\n",
      "Review: first and foremost i would suggest taking juice plus to anyone as ive always benefited from its health benefits over the past 15 yearsmy problem is with the seller salk trading of ky my reasoning is juice plus always arrives in boxes with a 3 month supply in each box salk trading advertised juice plus on amazon for 4999 would be a great deal for a 3 month supply as its usually 100 i purchased 2 orders for 9998 thinking i would be getting a 6 month supply much to my dismay a 2 month supply arrived for my 100 which is a 33 mark up on the regular price seems as if salk trading buys juice plus repackages it in smaller quantities advertises at 50 off on amazon and then sells at a 33 mark up do not buy juice plus from salk its a rip off and seems unethical\n",
      "Summary: geat product beware of seller mark up\n",
      "--------------------------------------------------\n",
      "Review: this brownie mix was so very disappointing and ive been eating lowcarb for years so my expectations are pretty realistic to begin withfirst was the amount of butter a whole stick so in this case as is so often true low carb does not mean healthy next was the cooking method a water bath in the oven baking pan inside a pan of water is a little complicated for a box brownie third is how it comes out of the oven greasy and flat about a half inch tall and it separates into a mealy bready layer above and a slab of greasy goo below its a complete mess to get out of the pan plus it tasted lame it ranks among the worse sugarless chocolate flavors out therefinally the very high amount of sugar alcohols means that if you have a sensitivity to the stuff you will definitely react to this i had one brownie and my bodys reaction was violent painful and disgustingthere was not one positive thing about this mix\n",
      "Summary: terrible on several levels\n",
      "--------------------------------------------------\n",
      "Review: these noodles took a long time to arrive and i was surprised to discover that they were made in the usa my surprise because they tasted awfully stale to the max and the flavor packet was pure salt no flavor what so ever the stale taste stays in your mouth for the rest of the day as well the packages did have an expiration date printed on them of june 12 2009 i was very disappointed i cannot really see myself purchasing these again\n",
      "Summary: stale and annoyingly salty\n",
      "--------------------------------------------------\n",
      "Review: i bought this product because it had an allergy allert but it forgot to mentioned that it is manufactured in same facility with other nuts and that it might contain eggs we have a person with peanut and egg allergy at home and ended up having to call rescue after two bitesout of the 6 cans we only opened 3 and they were all melted or brokenterrrible\n",
      "Summary: cross contamined with peanutsnuts or eggs\n",
      "--------------------------------------------------\n",
      "Review: caught none in fact there was a yellow jacket nest being built about 6 feet from it raid did them in\n",
      "Summary: doesnt work\n",
      "--------------------------------------------------\n",
      "Review: want the truth these noodles smell like fish and taste like raw squid wicked gross save your money this is the truth\n",
      "Summary: terrible\n",
      "--------------------------------------------------\n",
      "Review: let me tell you from experiencedo not give these to ur small dogs i have spent hundreds of dollars on dental on my four sheltiesi repeat do not give these to small dogs if i could prove it i would sue themjust a kind word of advise\n",
      "Summary: broken teeth\n",
      "--------------------------------------------------\n",
      "Review: i am not a happy camper this website says pure xylitol what did i get a box of packets that say xylitol plus which is xylitol and stevia and most of the time i find stevia to be nasty so now i likely have to throw this whole box away and i am pissed this seller is not worth your time go to your local health food store where you can hold the box you want in your hands\n",
      "Summary: untrue\n",
      "--------------------------------------------------\n",
      "Review: cheap packaging sent to my father and arrived in an envelope type box with a flimsy plasic bag that had apparently been opened already disappointing as this was a gift\n",
      "Summary: disappointing arrival\n",
      "--------------------------------------------------\n",
      "Review: i was so excited about this baby food maker but the capacity is tiny it would take all day to steam the amount of food that i make all at once i have stopped using the steam option completely i just steam food on my stovetop i have more control over the doneness that way and i dont have to worry about cleaning the reservoirthe cord comes out of the bottom and there is a tiny groove for it to fit under the baby food maker but it doesnt fit well you have to push the cord into that slot other wise the appliance is unstablethe lid doesnt fit well and it is always a chore getting it on tight i filled up the canister just a little over half way with chicken noodles and broth turned on the processor and was splashed in the face with hot liquid if you fill the canister more than half full you have a mess\n",
      "Summary: i got burned by hot food the lid doesnt fit\n",
      "--------------------------------------------------\n",
      "Review: i have always been impressed with shippinghandlingdelivery of every pkg i have received from amazonand there have been hundreds in all departments so when this candy arrived in a beatup huge box along with my other order of 6 bags of carmel corn with no paddingi was shocked the belts actually looked like they were pulled off a factory conveyer belt by the handful and thrown into a cheap clear garbage bag that was full of sugar wadded at top then halfway heat sealed along with what used to be carmel corn but now looks like corn meal from having been bashed by 66 of the candyi was shocked there was sugar everywhere everytime i moved box or bags that sugar was on me the floor table sofa what made matters worse the 6 bags of carmel corn were heat sealed in to a large plastic bag so when you opened the big bag each small bag was now stuck to it had to be cut out since they were smashed into nearly a corn meal it leaked out follwed the fate of the sugar there was no invoice insidethe label on candy was heat scorched ripped this left me not knowing anything abt the candywhere it came from exp date and no one or to callim hoping an amazon official will read this make things right i love shopping this sight have never left a bad review but then again ive never had my foyer living rm myself covered in sugar popcorn crumbs i hope no one else had to experience this fate but if you did please state so this way amazon can track this bad shipment packer down eliminate this problem\n",
      "Summary: hard wadded up dried up arrives in a trash bag\n",
      "--------------------------------------------------\n",
      "Review: several veterinarians have reported cases where dogs have developed symptoms of kidney failure fanconis syndrome similar to dogs who have been poisoned by chinesemade chicken jerky treatsthe brands implicated include beefeaters sweet potato snacks for dogs canyon creek ranch chicken yam good dog treats dogswell veggie life vitality\n",
      "Summary: afraid to buy warnings issued by vets online\n",
      "--------------------------------------------------\n",
      "Review: tea is very subjective if you are looking for a tea that does not taste like rooibos but more like black tea then this may be perfect for you as a forty something afrikaner who has drunk tea his whole life im not a big twinings fan numi is an easy to find brand of rooibos teabag and i much prefer the flavor to the twinings offering if you want the tea bags they buy and drink in south africa buy the freshpak here on amazon if you want real tea youll need a kettle and a tea pot i use 3 tablespoons of davidsons organic rooibos in a 13l pre heated teapot making the tea with freshly drawn boiling hot 212f100c water and a swissgold filter let sit under a tea cozy for 5 minutes then you will taste a true cup of rooibos made right\n",
      "Summary: not my cup of tea\n",
      "--------------------------------------------------\n",
      "Review: i really wanted to like this but i couldnt stomache it whatsoever it literally went down the drain like my money\n",
      "Summary: undrinkable\n",
      "--------------------------------------------------\n",
      "Review: this dogfood is like candy to the dogs they love it but it is not necessarily safe or healthy the soy protien in this food gives them horrible gas its not just irritating for the owner i mean i have my dog on my lap all the time but serious can be detrimental to your dogs health gas yes they will gobble it up and beg for more but i decided it was not good for my two small dogs as many other reviewers have already renumerated in more detail the reasons why this is just not good i wont say more but i am very picky about what i give my dogs they are part of my family and if there is a hint of doubt i wont give it to them the gas thing cannot be good purina is a reputable company so use your own judgement this is just my opinion\n",
      "Summary: sorry i cannot recommend this dog food\n",
      "--------------------------------------------------\n",
      "Review: we bought this kikkoman plum sauce from our grocery store it was for a hung roasted whole duck from the local asian market this duck was as good as duck ive had in hong kong we made our own pancakescrepes hong kong style we cut fresh green spring onionswe tasted this sauce before ruining our duck the sauce was absolutely the worst bad flavor bad smell not real plum sauce its mostly bad soy sauce we returned it bad stuff\n",
      "Summary: kikkoman plum sauce\n",
      "--------------------------------------------------\n",
      "Review: i bought some to try cause of the health benefits ive heard that this is one of the healthier kinds of tea i dunno guess im just not a puerh person it tasted awful to me smelled funky too i would not reccomend it unless youre a very serious tea drinker\n",
      "Summary: healthy but tastes pretty bad\n",
      "--------------------------------------------------\n",
      "\n",
      "===== Rating 2 =====\n",
      "Review: first of all its important to be aware that 16 disks means 8 chocolate and 8 creamer so there are only 8 servings in this packagei found the drink to be less than hearty much prefer suchards product\n",
      "Summary: milka more watery than milky\n",
      "--------------------------------------------------\n",
      "Review: i am in cat rescue and have 20 plus cats in my care at any given time i have been buying innova dry cat food for my cats for about 5 years now the cats love it and it has always seemed a good healthy choice for me to buy recently the food quality has taken a nose dive last month two out of the eight 15 lb bags i buy monthly were so crumbly that half of the bag was nothing but powder i returned those bags to the merchant and waited a week for them to receive a fresh supply with a different lot number and expiration date and those 2 bags were also crumbly i have left messages for the manufacturer natura pet to call me with no reply at this point i am searching for a replacement food for my cats and you can bet it will not be manufactured by natura pet due to their unresponsiveness to the problems with their product\n",
      "Summary: food is crumbly and natura unresponsive\n",
      "--------------------------------------------------\n",
      "Review: the portion is really small it might work for a toddler we opened a pack with our family of 5 present and it looked so unappetizing no one really wanted to taste\n",
      "Summary: small portion not appetizing\n",
      "--------------------------------------------------\n",
      "Review: like many of you my budget had taken a hit during the great recession aiming to save a few dollarsi bought the gunpowder green tea which is admittedly very reasonably priced the tea was so muddyin flavor the first time i brewed it that i ended up changing my water filter that helped a little stillthe tea remained unusually muddy despite it being green tea there was little of the familiarseaweedy grassy notes and more of a darker earthier taste as well as a strong vegetal componentfor a few dollars more the monkey king jasmine green is far superior its clearer in flavor and farmore delightful\n",
      "Summary: mild but muddy\n",
      "--------------------------------------------------\n",
      "Review: while numi tea is my favorite brand for years even when my budget is tight this product is mostly a bag of dried fruit roadkill filler with a slim tease of black tea holding 1 pound bag in my hand its a real disappointment dont you love misleading labels\n",
      "Summary: black tea content is probably less then 20\n",
      "--------------------------------------------------\n",
      "Review: nice packaging makes one imagine rich vanilla flavor upon opening this just smells rather thin a sense reinforced when actually brewed very thin vanilla flavor id say delicate but a more appropriate term would be weakbut the coffee isnt weak if youre into starbucks fare this wont disappoint since im not into starbucks fare i subscribe to the narrative that theyve hoodwinked the country into blithely accepting the fallacy that strong acidicbitter coffee is primo which it isnt i wasnt surprised by the rather nasty aftertaste that not even 34 sugars per cup can maski love strong coffee but good coffee can be strong and not offensively acidic with a bite at the end of the quaff that can peel tastebuds off its all in the beans and the roast i dont know why starbucks foists off fare like this on the public oh yes i do because it sells to those who dont know betterand i see were down to 11 yes eleven oz pounds of coffee why send 2 packages of 11 oz 2 x 11 22 when one could just put it all into a true pound and a half 24 oz bag it just makes no sense the packaging costs are higher and its hardly more environmentally friendly this waywhen i tell people i used to live in seattle they frequently say oh you must have gone to starbucks all of the time only when i had no other choice is my response if one is willing to pay boutique prices for coffee one can do far better in fact even if one is not willing to pay boutique prices for coffee\n",
      "Summary: met expectations sadly\n",
      "--------------------------------------------------\n",
      "Review: i downed a bottle of this in about two minutes and man was i glad that i tried this at home it gave me a feeling within minutes like i was in the twilight zone or some horrible nightmare like the walls were moving farther and farther away this only lasted for about ten minutes then i actually started to feel stoned it was like i smoked some illegal green herb and did a few shots of espresso on top of it it was very nice for about an hour then the terrible part happened the crash it felt like i had a few glasses of wine and then took a short nap like a mild hangover if you want to try it try it at home i am not messing with this stuff again\n",
      "Summary: what a bad trip\n",
      "--------------------------------------------------\n",
      "Review: the item came in a reasonable time so i was happy about that the package was completely damaged and falling apart which could have been the postal services fault the product had expired almost a month prior the item seems like a really good one in which i hope to try and have a better experience next time\n",
      "Summary: damaged and expired\n",
      "--------------------------------------------------\n",
      "Review: i agree with all the other reviewers who say these are just like regular brownies with a rich chocolately flavor and great texture i agree they taste great and go down really easily however its what they do to your body after eating them that i object to you will get really awful gas its not just me it happened to my entire family my husband and both boys teenagers not pretty i dont think it was the sugar alcohol that caused the problem but what was it who knows i am so glad i didnt go crazy and buy a case before i checked them out just be cautious\n",
      "Summary: i really wanted to love these\n",
      "--------------------------------------------------\n",
      "Review: i found jeremiahs pick kona blend lacking flavor i tried every trick i know to bring out all the taste it had but still found it weak\n",
      "Summary: kona blend lacks flavor\n",
      "--------------------------------------------------\n",
      "Review: in the description again when i ordered this ib jan 09 they had a pretty little picture making it look wholesome the box that arrived is colored white rock candy their wordsand definately not from europe i was looking for a nonrefined product euro grocer lost this customeredit to add that when i posted this review it was called sugar not candy i was seeking the gourmet sugar crystals that are served by high end caterersedit 2012 when i purchased this it was sold by another seller and was advertised as natural sugar i see that this seller is upfront about what the item is and commend them for it\n",
      "Summary: read the legal disclaimer\n",
      "--------------------------------------------------\n",
      "Review: i just tried the snackwell fudge drizzle caramel popcorn for the first time and was not impressed at all you get 130 calories for a small serving the taste is nothing special and is not as tasty as a box of cracker jacks it is loaded with sugar and the price for for you get it ridiculous do yourself a favor and stick with nutritional snacks they are much less expensive less calories more nutritious and better tasting just because a product is marketed as nutritious or low calorie doesnt make it so read the fine print and be smart this is a product you should pass onif you get the craving for popcorn make it yourself you will save a bundle of money and it will be better tasting and more nutritious pass on this product unless you are a junk food junky with money to spare\n",
      "Summary: overpriced junk food\n",
      "--------------------------------------------------\n",
      "Review: whenever you buy these types of microwave meals you go into it not expecting much often theyre not very flavorful and the pasta tastes llike cardboard well this product didnt disappoint the sauce was rather bland and eating the noodles was like eating paper quite honestly i would never try this again\n",
      "Summary: not very tasty\n",
      "--------------------------------------------------\n",
      "Review: i bought this for my miniature pinscher and she really loved it she didnt lose interest in it but she ended up eating the bones on either side of the toy before finishing the treats she only weighs 9 pounds so if anything this could be used for a chihuahua my dog never chews up any of her toys so this one wasnt very good we used it for about a week before throwing it away\n",
      "Summary: doesnt last long\n",
      "--------------------------------------------------\n",
      "Review: amazon had featured the peloponnese whole kalamata olives in the same type of tubs these were delicious then they stopped having those in stock and only offered the pitted olives trust me if youve tasted the whole olives you wont be willing to eat these because the pits are removed the olives soak up far far more of the brine instead of a firm meaty bite you end up with most of the olives being shriveled and soft like a fruit that has started to go bad and while no one expects olives to be lowsodium the pitted ones soak up so much that some of them actually taste as though you placed a teaspoon of salt in your mouth i think this brand has some of the highest quality and flavored olives when you buy them whole the pitted ones were such a disappointment i threw the remainder away please amazon bring back the whole olives meanwhile i have gone back to my supermarket as source\n",
      "Summary: bring back the pits\n",
      "--------------------------------------------------\n",
      "Review: i love the pink grapefruit flavor of this brand so thought id try the other flavors this one tastes good at first but leaves a really nasty aftertastecant recommendtry the pink grapefruit flavor though that one is delicious with a real grapefruity flavor\n",
      "Summary: nasty aftertaste\n",
      "--------------------------------------------------\n",
      "Review: before buying this i bought the blue wilderness brand my cat loved it when she was starting to run low i visited the pet store to find this blue buffalo spa select on sale it had very good reviews so i thought why not give it a shot i slowly mixed her original food with this one to transition her once she was just solely eating this she got diarrhea oh it was a mess to clean up and i noticed she also had gotten dandruff while being fed this food too i felt so bad for my kitty because i was trying to feed her a healthy food and also save a few bucks it made her sick i felt so guiltydespite it being on sale this is not cheap food to have to throw away also this food smells quite unpleasantly strong really had high hopes for this very much wanted to like it we are back to the blue wilderness chickenformula and everything is great again\n",
      "Summary: gave my cat diarrhea dandruff\n",
      "--------------------------------------------------\n",
      "Review: i bought this expecting the powdered form as it specified and ended up paying for a product i cannot use the two granulatedwhich this is and powderedwhich it clearly is not are not interchangeable within recipes i felt like i was tricked into buying the wrong product\n",
      "Summary: powdered and granulated not interchangeable\n",
      "--------------------------------------------------\n",
      "Review: at least 13 of every box came in bits and pieces appears that shipping them this way is more damaging the when you buy them in a store like whole foods\n",
      "Summary: crumbled crackers\n",
      "--------------------------------------------------\n",
      "Review: this product does not work we tried this about a dozen times with different amounts of coffee and just couldnt get a strong enough cup of coffee it was very thin if you pack it too much it clogs your coffee maker and you need to take it apart to clean it out waste of money we have found the filters work in a different reusable k cup holder and do make cleaning it out much easier\n",
      "Summary: just doesnt make a good cup of coffee\n",
      "--------------------------------------------------\n",
      "Review: im really not a coffee snob and only drink about 1 cup or so a day but this coffee was not so great i do not like strong coffee but found i needed to use two pods for an 8oz cup and it still had a watery taste even though the coffee in the cup was very dark and appeared rich tasting i wish they made a reusable pod for my hamilton beach model 49970 so i could grind my own coffee i cannot recommend this coffee very disappointed im going to try a different blend and hope for a better cup of coffee to start my day boohiss on this one\n",
      "Summary: meeehhh not so good\n",
      "--------------------------------------------------\n",
      "Review: i dont know if the people giving this product rave reviews have had little exposure to other coffees or what but this is not the best coffee i am disappointed in the aroma and flavor i have had much better ground coffees right off of the grocers shelf now im stuck with a 32 ounce bag of coffee beans i dont enjoy i wish i had listened to the negative reviews live and learn\n",
      "Summary: wish i hadnt listened to the rave reviews\n",
      "--------------------------------------------------\n",
      "Review: this buckwheat is tasteless compared to russian buckwheat only good thing is that it is organic will not order again\n",
      "Summary: tasteless\n",
      "--------------------------------------------------\n",
      "Review: mmmmm no the first 2 ingredients are corn meal and the notorious chicken byproduct meal this is one of those things that has a name that makes it sound good but its really not we try it occasionally when we cant find our preferred foods usually proplan which is in the same price arena but occasionally the fancier kinds and it makes our dog a 60ishlb hound mutt poop like crazy each time she usually goes only 12 times each day but when she eats this she gets the runny poops and goes 5 times a day or more cant be making her feel awesomei was told by a friend years ago that his vet told him that beneful is like potato chips for dogs and i believe it tastes great im sure but not a whole lot of goodness in there also as other commenters have said the suggested serving size of this is larger than for better dog food so if you follow those rules the savings isnt as great as youd think\n",
      "Summary: there are way better options\n",
      "--------------------------------------------------\n",
      "Review: it smells like beer and doesnt taste like soy sauce to me i ended up with a really upset stomach and nausea soon after eating my family will stick with lachoy soy sauce which is naturally gluten free\n",
      "Summary: not the best\n",
      "--------------------------------------------------\n",
      "Review: i was going to order this for my little shihtzu but knowing how picky he is i bought a can from the local pet store first glad i did because sheldon would have nothing to do with it the chunks in it are huge for a little dog so i cut them up but he still would only sniff it and walk away disappointing because i see now that they have the smaller cans i would have bought for him not sure if the pieces in those are smaller as well but it doesnt really matter he wont eat it\n",
      "Summary: not a keeper here\n",
      "--------------------------------------------------\n",
      "Review: this 250g package is really quite a small package for which i paid over 10 on amazonbecause it specifies a european weight measure i was not prepared for how small this package isi wanted to give this item as a gift but will now have to add other items to my giftsubstantially overpriced in my opinion\n",
      "Summary: quite expensive item\n",
      "--------------------------------------------------\n",
      "Review: i purchased this product because i love the flavor of smoked foods and good mustardthe namejack daniels hickory smokedwhoa sounded great unfortunatley the smoke flavor is too subtleand flatthere is also quite a bit of sodium per serving now i am stuck with 5 bottles languishing in my pantry maybe i will try making salad dressing\n",
      "Summary: subtle smoke\n",
      "--------------------------------------------------\n",
      "Review: saw this on dr oz so of course i had to try it bitterbitterbitter only way you could eat it was mixed with yogurt anddid it help increase my metabolism like dr oz said it would very doubtful\n",
      "Summary: bitter taste\n",
      "--------------------------------------------------\n",
      "Review: i had previously bought the lomo iberico which was approximately 80i bought this one because it was a lot cheaper and campofrio is a known brand in spaini was disappointed because it was very hard which made it difficult to cut also the lomo had a deep fold across the length of it a small fold is normal which coupled with the hard texture made it difficult to serve to guests even the fat around the edges was hardthe flavor was good but it was not excellentnext time i will buy the iberico again yes its more expensive but its smoother has better flavor and a lot easier to cut and prepare for serving guests\n",
      "Summary: very hard but flavor is good\n",
      "--------------------------------------------------\n",
      "\n",
      "===== Rating 3 =====\n",
      "Review: im a lowcarb lifer who also is a certified chocoholic so ive tried most of the lowcarb sweets on the market i purchased a full box of these so i had a chance to live with them for several weeks i have to wonder if the other reviewers calling this great chocolate have ever actually tried anything beyond hersheys because while its perfectly edible it is very far from great have you ever had one of those cheap chocolate bunnies they sell around easter they cost 2 and taste like very cheap chocolate thats exactly what this tastes like again its not horrible and its perfectly edible but using the word great when describing this chocolate is like using the word great when describing a chevy cavalier automobile its entirely inaccurate this tastes like cheap chocolate but for what it is intended low carb eating without terrible stomach distress it does work but please dont buy this thinking youre getting a wonderful chocolate experience its not even as good as a nestle bar and its like eating tree bark compared to recchiuti or fazer from finland or even godiva would i buy it again no id rather eat lindt 85 dark and take in 12 carbs of real chocolate but if i were forced to a life of sugarfree chocolate this would be acceptable\n",
      "Summary: please stop calling this great chocolate\n",
      "--------------------------------------------------\n",
      "Review: this product is above most in quality the company that produces the product gives more validation that most others that the prodict is pure and the quality is as specified\n",
      "Summary: vitemin validation\n",
      "--------------------------------------------------\n",
      "Review: i usually buy my coffee from tullys at around 15 for 25 cups this package not only gives you a good variety but the coffee also tastes great and is a great value\n",
      "Summary: great value great taste\n",
      "--------------------------------------------------\n",
      "Review: i was surprised at how small the portions were when receiving these considering that when watching iron chef machiba cook with them he uses like 12 a kilo what i found out however is a little bit goes a long way a good product but in order for you to maximize your dollar i suggest ordering more than one item as the shipping was more than the items actual cost hence the 3 of five\n",
      "Summary: first time cooking with bonito\n",
      "--------------------------------------------------\n",
      "Review: tastes like an iced coffee with a little sugar added its a little thin like a traditional ice coffee where the ice has melted to water it down a bit the coffee flavor is probably a little light for most people who like dark bold coffee and probably a little dark for people who like light coffee its right in the middle its not exceptional but tastes fine\n",
      "Summary: tasty if slightly thin iced coffee\n",
      "--------------------------------------------------\n",
      "Review: we loved the kona we had in hawaii last year and subsequently purchased some at home when i saw this product it seemed like a good deal first of all when we opened the box it smelled terrific fresh and flavorfull our disappointment is in the taste though we have played around with the water ground bean ratio it still does not have the body and flavor we expected again should have paid attention that it was a kona blend its good but not great\n",
      "Summary: a kona blend\n",
      "--------------------------------------------------\n",
      "Review: instant coffee is not my first choice when i drink coffee i prefer fresh brewed however there are situations when you cannot brew a coffee of your choice at the office or when i travel and want to have coffee in my room in such situation i use folgers coffee i have a jar in my office and take a small zip lock bag with folders coffee when i traveli have tried other instant coffees and prefer folders for the following reasons1 i like strong flavored coffee with deep color other coffees do not give me the same flavor with just one tea spoon2 compared with starbucks via instant coffee which fits the bill for strong flavor it is much more economical without large difference in taste3 it dissolves in hot and cold water with a bit of extra stirring which is important if you are using it when you are travelling since you may or may not have hot water in the room4 most frequently i drink my coffee black and folders is not bitter blackso even though i generally prefer brewed coffee i always have some folders instant coffee on hand for those occasions when brewed coffee is not an option\n",
      "Summary: when i have to drink instant coffee folders is my choice\n",
      "--------------------------------------------------\n",
      "Review: in order to get the fastest coffee on earth im willing to sacrifice the lack of aromarather bland flavor and\n",
      "Summary: not strong enough\n",
      "--------------------------------------------------\n",
      "Review: the bumble bar tastes good but the sesame and flax seed tend to get stuck in your teeth\n",
      "Summary: good not great\n",
      "--------------------------------------------------\n",
      "Review: i love this product but im really disappointed in how they were delivered both boxes were crushed amazon and staceysand when i opened the inside box one of the bags of chips was split open at the top and chips were everywhere i havent decided whether to order again this way\n",
      "Summary: product is great delivery needs improved\n",
      "--------------------------------------------------\n",
      "Review: if you like espresso then you will probably like this coffee the taste is strong and bold it is mildly sweetened one can 68 ounces contains 50 calories and 155 mg of caffeineyikes thats a lot of caffeine i like coffee but not this strong so i wont be drinking it again and just fyi it is a product of denmark\n",
      "Summary: packs a strong punch\n",
      "--------------------------------------------------\n",
      "Review: i love bars in a couple different flavors including chocolate chip mostly because they do not contain high fructose syrup and also because they provide a healthy in between meals snack\n",
      "Summary: tasty flavors\n",
      "--------------------------------------------------\n",
      "Review: this item is just mediocre in taste but what was disturbing was the shredded aspect not by my definition it is more like small grain rice size think powder snowthe price is a tad on the high side compared to getting similar product at several other places\n",
      "Summary: pluverized not shredded\n",
      "--------------------------------------------------\n",
      "Review: i like them for me should be 35 stars though the cashews should be salted more cant really taste the cashews and overall has a buttery taste others in my family would rate it lower and described it as bland\n",
      "Summary: could use salt\n",
      "--------------------------------------------------\n",
      "Review: the teabag has all the ingredients to make a good tasting teabut the tea itself is very weak so i am not buying this anymorejust buy regular tea and add the following to itcardamomclovesblack peppercornsaunf fennel seedsand it will taste much better\n",
      "Summary: good taste but weak tea\n",
      "--------------------------------------------------\n",
      "Review: i love strong dark coffee but this blend is almost over the top for me i can only drink it once in a great while the box i bought will last for quite some time love several other coffee people blends but the jet fuel is just too strong\n",
      "Summary: really really strong\n",
      "--------------------------------------------------\n",
      "Review: i thought i was buying 24 flavored flavored coffee samplers if i drank tea it would have been alright but i dont\n",
      "Summary: did not expect this\n",
      "--------------------------------------------------\n",
      "Review: my son and i love these i was at first not happy about them being made in mexico as opposed to right here in the usa but after hearing from the owner i am confident they are making a high quality product anyway they taste so amazing you would probably buy them if they were made in a pig barn we went through a 5 pound bag so fast i couldnt believe it\n",
      "Summary: tastes great but made in mexico\n",
      "--------------------------------------------------\n",
      "Review: good quality wild rice few broken pieces cooks up well okay price good mixed with other rices would order again\n",
      "Summary: good quality wild rice\n",
      "--------------------------------------------------\n",
      "Review: hitastes ok and is a decent instant i use a large mug and add a triple leaf bag if i want a little more bite to itseveral products are advertised as tea bags but these are not they are powdered instant and should be labelled assuch i only know triple leaf and bija to be teabags there may be more but these are the only two ive had experiencewith\n",
      "Summary: ok but not a bag\n",
      "--------------------------------------------------\n",
      "Review: healthy continues to be the marketing tool du jour newtons fruit thins from nabisco is no different just putting the word thin in the name has a subtle effect on the buyer these cookies are healthy and will help be thin i dont mind marketing tactics but the buyer needs to go into the purchase with eyes opennewtons fruit thins are a thin waferlike cookie with some fruit bits in it not real sweet and they definitely have the flavor of whole grainsif spite of the packaging labels that will attract the buyer real fruit whole grain no corn syrup the cookies still have five grams of fat and 140 calories per three cookie servingthe cookies are dry but not crunchy they are perfect for those who like to dunk cookies in their drink for those seeking a sweet snack the thins will seem bland only one or two bites actually had a piece of fruit large enough to tastei prefer the less sweet snack so will probably purchase this product for those nibble cravings i do recommend that buyers read the label before deciding that this product is really as healthy as it may sound on the outside\n",
      "Summary: an adult treat\n",
      "--------------------------------------------------\n",
      "Review: we have a 4 month old german shepherd puppy who loves to chew on his star unfortunately the star doesnt hold up very well hes completely chewed off all five points they say the toy isnt edible but if its that easily eaten maybe they should either consider making it edible or make it more durable thought the nylabone products would last but i guess its time to start looking for other products that he wont destroy in one sitting\n",
      "Summary: puppy loves it but doesnt last\n",
      "--------------------------------------------------\n",
      "Review: the jelly beans were tasteful and very flavorful however when i received my package the jelly beans were all mixed in with each other and that was a big disappointment to me the jelly beans should have been sealed into each squareit doesnt seem to be 50 flavorsthere are some empty squares\n",
      "Summary: gourmet\n",
      "--------------------------------------------------\n",
      "Review: i have used this product before and though my cholesterol count remains above 200 with or without the product my hope is that it would be higher without it call me a dreamer or a cockeyed optimist but thats how i feel\n",
      "Summary: benecol smart chews review\n",
      "--------------------------------------------------\n",
      "Review: in germany we have this and its great but in america it just doesnt taste the samethe american fanta coke and most of the carbonated beverage are made with corn syrup and glucosefructose instead of cane sugar which makes the overall aftertaste very stickyi can only hope one day amazon has the real german fanta and mezzo mix at a reasonable price\n",
      "Summary: fanta orange\n",
      "--------------------------------------------------\n",
      "Review: tldr version while a pretty decent bean 1 star this is not a french roast 1 star this is why it only gets 3 starsoriginal versioni recently picked up these and the larrys decaf espresso beans at 57 off see my review of the decaf for an idea of the value of that purchase the price comes out to somewhere south of 5lbthese beans were worth the price being significantly better than any comparable beans you can buy at the store for anywhere close to the same price however theyre not the quality youll find at your favorite coffee shop these are 2nd shelf beans and at the price i paid thats okprosgood freshness fragrant and oilygrind well smell engages the nosegood crema depth of colorgood flavor reminiscent of ripe blackberries and cream with roasted chile undertonesexpected mouth feel viscosity is thick but not turkish coffeelow acidconsistent roastexcellent packaging wont get damaged in shippingconsnot french roastnot boutique as the price would suggest\n",
      "Summary: good but not great\n",
      "--------------------------------------------------\n",
      "Review: there is nothing new with this product if you have ever used any of the shampoos from head shoulders you already know what to expect from this product the only real difference is the fragrance which is not enough of a differentiator to make me say this is great you need to try this it all comes down to do you like the fragrance which i can not comment on hereoverall its ok but i wont be running out to replace it when the bottle goes empty\n",
      "Summary: its ok but nothing new here\n",
      "--------------------------------------------------\n",
      "Review: seems there are four types of dog food the first is the bargain brand walmart variety benefitlots of food for less money the second type is the garden variety mass produced dog foods brands such as purina fill this market the third is the pseudogourmet market again dominated by the major brands with weird names to try to make folks think they are part of group 4 which is gourmetspecialty dog food those that specialize in high protein low grain and filler foodsbeneful is imho as good as it gets in general market dog food my dog likes it though he will sometimes let it sit for extended periods if he can find anything else as an overweight do he seems to gain weight on beneful which is probably an indicator that it has more filler than would be best for himgiven all that i recommend beneful if youre looking for a quality mass market dog food\n",
      "Summary: pretty ok dog food\n",
      "--------------------------------------------------\n",
      "Review: i purchased this sampler mainly because it advertised apple cider and hot cocoa my package did not contain either maybe there is a disclaimer in there oh well\n",
      "Summary: where is the apple cider and hot cocoa\n",
      "--------------------------------------------------\n",
      "Review: i got this item for my wifes 41st birthday i also ordered a similar box offered through amazon via hometown favoritesllc this box was smaller contained a limited variety of items compared to the other and the outside gave no indication of what was inside also this box contained a moderate amount of black tissue filler there was no filler in the other boxin short we were happy with the product but there is a better alternative also available on amazon\n",
      "Summary: good but not as good as the other that amazon offers\n",
      "--------------------------------------------------\n",
      "\n",
      "===== Rating 4 =====\n",
      "Review: its pricey ill admit it but its priced for convenience who wants to eat yogurt on the road i do do i want to spill it on my lap or get into a car accident nope it doesnt melt in your mouth like yogurt melts which i thought they did and is why i had bought them for my young son but they are delicious and a great idea for us older kids\n",
      "Summary: very nice snack for on the go\n",
      "--------------------------------------------------\n",
      "Review: locally i was only able to find cardamon at about 5000 a pound which could almost make you give it up for cooking on this site i found the product at a very reasonable price it was shipped promptly and is very fresh thanks for a great product\n",
      "Summary: great product affordable too\n",
      "--------------------------------------------------\n",
      "Review: it was smaller than i expected after getting the large brown gel bottle perfect color shipped quickly and packaged well\n",
      "Summary: blue gel paste\n",
      "--------------------------------------------------\n",
      "Review: my dog doesnt particularly like this treat but the neighbors dog loves it and begs for it when he is over here for a play date it is healthy and obviously the taste is pretty good however our neighbors dog is a little like mikey he will eat anything my dog is pickier\n",
      "Summary: healthy but not the taste my dog loved\n",
      "--------------------------------------------------\n",
      "Review: smeagol was out creepin before the fat hobbitses woke up when he decided to search amazon for discounts on raw fish as i detest the filthy hobbitss lombus bread smeagol was golem golem golem thrilled when he discoveredses the rabbit meatses being at the low price of 4350 smeagol was worriesed about the quality of the meat so he decided to compare it to some rabbitses he caught himself first off ordering the fresh whole rabbitses saved smeagol the hassle of finding rabbitses we also founds that we could avoids the process of snapping their necks as well as skinning them in terms of flavor the fresh whole rabbit was every bit as fresh as the rabbit smeagol found him self it is to be noted however that the first rabbit smeagol found had been rotting for several days the only problem smeagol found with the fresh whole rabbitses is golem golem golem that smeagol had less variety to choose from we are accustom to young and tender rabbitses where as this whole rabbit was deffinately of a riper age and after this the fat hobbitses awakes and tells me he wants potatoes potatoes boil em mash em stick em in a stew precious precious golem\n",
      "Summary: look look see whats smeagol finds\n",
      "--------------------------------------------------\n",
      "Review: the key to any popping is high temperture oili have puffed many types of noodles and popped many kinds of seedsyou need the right oil google high temp cooking oil and get it to the point where it is starting to smoke just a littleat that point you put in the grain and pop it goes\n",
      "Summary: key to popping\n",
      "--------------------------------------------------\n",
      "Review: this is delicious and i signed up for the subscription delivery in order to enjoy it often its a healthy snack to bring to work or anytime and its exactly the taste i remember and have been searching for the only problem is there are way too many bones which is why i subtracted one point the flavor more than makes up for all the bones but still it would be such an excellent product without having to encounter all the sharp little jabs\n",
      "Summary: excellent flavor\n",
      "--------------------------------------------------\n",
      "Review: i have only made kefir with this product and have always been pleased with the results i make mine with organic whole milk and culture for 24 hours at room temperature after heating the milk to 180 degrees i keep it at temperature for 20 minutes then cool to 75 degrees and add the culture the product produced is so superior to all ready made\n",
      "Summary: yogourmet kefir starter\n",
      "--------------------------------------------------\n",
      "Review: sardines taste fresh but there is a lot of oil i would like the can packed but there is space for lots of oil\n",
      "Summary: good taste good quality\n",
      "--------------------------------------------------\n",
      "Review: fantastic little biscuit the shortbread and jam create the perfect ammount of sweet while at the same time giving it an overall delightfully chewy texture ill order these again soon\n",
      "Summary: alrightits a jammie dodger but i was promissed tea\n",
      "--------------------------------------------------\n",
      "Review: we had chinola while in the dominican republic and loved it found this on amazon and it is very very similar though not quite as sweet had some issues getting it correctly from the latin products since they sent jam instead of juice for some reason then i had to prove to them by taking pics that they had sent the wrong thing but they did correct it and let me keep the jam as well which is excellent too very good product not cheap but when you are desperate for chinola its worth it and yes i do now know the difference between sht and chinola if you have heard that old saying before\n",
      "Summary: very good similar to what we had in dominican\n",
      "--------------------------------------------------\n",
      "Review: i have two shih tzus that are very picky eaters i thought id try the mighty dog for them they both sit very anxiously until i tell them good boys after their dry food and the mighty dog is mixed they love it\n",
      "Summary: both dogs loved it\n",
      "--------------------------------------------------\n",
      "Review: i had been buying the louisiana fish fry cobbler mix and thought it was heavently then i saw the calhoun bend mill peach cobbler mix advertized as the mix that georgia uses for its peach festival since georgia is the peach capital of the us and perhaps the world i figured this calhoun bend mix was worth a tryand it was it is just as simple to make as the other mixjust add butter and water but to my taste it is not quite as sweet as the louisiana mix and i like my cobbler to be very sweet hence i prefer the louisiana mixbut between the two i think it will just come down to a matter of tastedo you like it extra sweet or do you like it very sweet for the extra sweet go louisiana for the very sweet go calhoun both are a snap to make and get you compliments every time so it is just your choice\n",
      "Summary: like louisiana better\n",
      "--------------------------------------------------\n",
      "Review: this mix has been a staple in my kitchen for years because it is versatile and delicious but the local stores no longer stock many varieties of the good seasons salad dressing mixes it is fresh when prepared in your own home and can be used for both dressings and marinades the mix keeps for a long time in the package until you make it fresh try this one with red wine vinegar and canola oil and use it on lots of salad types not just a ceasar salad experiment with the types of vinegar and oil order the box of 24 and share them with your friends\n",
      "Summary: freshness and flavor\n",
      "--------------------------------------------------\n",
      "Review: another great item from blue diamond this one reaches into the sweeter side of things rather than the regular salty route a healthy lowcarb option when you get a craving for something sweet the almond tastes roasted while the coating is a wonderful honey taste its not hard to eat half the can at once so be careful\n",
      "Summary: sweet and delicious\n",
      "--------------------------------------------------\n",
      "Review: this is a very tasty cereal with the look of cheerios the nuts are not a major presence and the flavor is similar to honey smacks the sugar content is pretty high which is probably why it tastes so good it is not so much better than other cereals that i would pay extra for it but it is as good as any other minidoughnut shaped cereal i have tried\n",
      "Summary: sugary nut cheerios\n",
      "--------------------------------------------------\n",
      "Review: got these and cooked them up on the grill they were very good i dont think they are any better than the frozen ones found at the grocery store though i will have to compare prices to see which is the better deal either way im glad i got these its one of the few fish that we like very mild and the texture is good it holds together well on the grill we use it with and love it\n",
      "Summary: delicious\n",
      "--------------------------------------------------\n",
      "Review: the cappuccino tastes very similar to the starbucks bottled kindits neither too tasty nor too disgusting simply average if you put it in the refridgerator for a few hours beforehand itll taste refreshingthe 845 size is about the right amount of caffeine a cup\n",
      "Summary: a cool kick in the summer\n",
      "--------------------------------------------------\n",
      "Review: i have only tried one recipe so far and will rereview after i try a pancake recipe i tried pizza crust mixwater and i thought it tasted fine till the aftertaste ive been eating organic for about a year and maybe its just my taste buds a lot of processed foods have weird tastes to me now anyways i wanted some more low carb variety in my diet and i thought why not try this i have to say that i was disappointed i ended up scraping off the sauce onto some organic low carb bread i have i will try a pancake recipe since that seems to be populartried pancakes and they tasted a lot better i think that for me this mix can not be eaten alone i have to mix with a few other ingredients to get the taste that i like also i used stevia to sweeten the mix and that worked just fine in place of splenda bumped up to four stars\n",
      "Summary: ok but not great\n",
      "--------------------------------------------------\n",
      "Review: i am pleased so far with this wine kit however i received the wrong labels is there anyway i can receive the barbaresco labels that i did not receive i got bardolino\n",
      "Summary: reserve du chateau 6 week wine kit italian barbaresco 55pound container\n",
      "--------------------------------------------------\n",
      "Review: this clear vanilla although artificially flavored is pretty good and ill probably continue to use it in my baking its a little pricey but cheaper than wiltons clear vanilla\n",
      "Summary: ck products clear artificial vanilla baking flavor\n",
      "--------------------------------------------------\n",
      "Review: my sister liked these a lot more than i didshe likes a far milder coffee than i do i had to use two of them per cup on a smaller water setting as i do even with many caffeinated varieties to get the flavor i like so three stars from me and four from my sister a nice smooth tasting selection of decaf if you like mild coffee\n",
      "Summary: decent decaf\n",
      "--------------------------------------------------\n",
      "Review: health valley cafe creations cinnamon danish are a tasty treat to keep on hand they make a great morning or afternoon snack while at your desk and if you are following weight watchers each bar is only 2 points if you like the taste of cinnamon and you crave sweets you will enjoy these bars\n",
      "Summary: sweet indulgence\n",
      "--------------------------------------------------\n",
      "Review: i own a purebred chow chow and he is very particular about what he eats most of the time he will only eat cat food so when he decides to eat solid foods it makes my life a lot easier i was surprised that he ate this as its not any special type or flavor but he is fond of the beneful and id say his coat looks nicer when we feed him purina stuff it doesnt have a strong smell like some other foods so it wont make you sick when you open it the price is just really good for how much food youre getting ive paid this much for a 7 lb bag at a pet store and there is a good balance of ingredients\n",
      "Summary: great deal for this size\n",
      "--------------------------------------------------\n",
      "Review: we use our immersion blender to make it less chunky and more like the authentic restaurant style best in taste as far as jarred salsas go spicy we mix it with the casera mild for a less spicy appetizer best with santitas chips\n",
      "Summary: great salsa\n",
      "--------------------------------------------------\n",
      "Review: i have colortreated allover blonde highlights and very fine hair but a lot of it i originally tried the volumizing shampoo and condition by clear but i needed more moisture this one is greateven with the first washing my hair was more manageable styled better and was so shiney and bright one of the guys i work with said it looked blonder and asked if i just got it donei know it has sulfate but my hair looks great anyway\n",
      "Summary: this is a great shampoo\n",
      "--------------------------------------------------\n",
      "Review: i wont lie these arent the most interesting things youve ever eaten theyre hard and crunchy a little salty and a little bland on the other hand they are one of the healthiest snack foods i can find 14g protein only 2g net carbs as a replacement for the occasional mindless snacking i do in the afternoons when im working theyre fantastic\n",
      "Summary: super healthy if a little bland\n",
      "--------------------------------------------------\n",
      "Review: i have been using this product over the past couple months i have made the salad dressings and the marinades my overall feel is i really like itits not without flaws as i found sometimes the herbs are overpowering but with a little recipe fiddling you can fix that for example with the honey mustard salad dressing recipe i personally thought the herbs covered the honey and the mustard portion of the dressing i fixed that by adding more honey and more mustard voilai marinated some chicken breasts in each of the different marinades and then had the neighbors over for a little bbq and we were all impressed with the flavors my neighbors even asked what i used so they could purchase someall in all i have enjoyed every recipe and every marinade even when i have to fiddle a bit with it i think its a great productcherise everhard july 2008\n",
      "Summary: pretty darn tasty\n",
      "--------------------------------------------------\n",
      "Review: well it isnt ultra hot but it does have a kick it mainly tastes smokey imagine a regular sweet and smokey bbq sauce with a bite of a jalapeno the ghost pepper is too far down the ingredients list which leads me to believe not enough is used in order to get that ultra hotness i was looking for good product though\n",
      "Summary: good stuff\n",
      "--------------------------------------------------\n",
      "Review: i have dyed my hair for years and am always trying different shampoos my hair is straight and on the fine side and i wash it every day i liked this shampoo it lathers well even in our hard water and left my hair feeling nice i didnt need any conditioner and it didnt dry out my hair or weigh it downi think it has a strong scent not totally unpleasant but if youre sensitive to scents it may bother youi do wish amazon didnt ship this in a padded envelope somehow the shampoo bottle opened and while the bottle was wrapped in plastic i lost about 13 of the shampoo shipping this in a box would have prevented this problem\n",
      "Summary: i liked it\n",
      "--------------------------------------------------\n",
      "\n",
      "===== Rating 5 =====\n",
      "Review: very good pizza crust i make flatbread out of the mix and put fish and tuna on it and it makes a tasty fish sandwich\n",
      "Summary: very good\n",
      "--------------------------------------------------\n",
      "Review: we love this organic flour it bakes up nicely and is easy to work with and the price here on amazon with subscribe and save is reasonable\n",
      "Summary: great flour\n",
      "--------------------------------------------------\n",
      "Review: this is some of the best coffee ive ever had in my home it is smooth and rich my friends and i are big coffee drinkers and i always get compliments on this brew\n",
      "Summary: coffee\n",
      "--------------------------------------------------\n",
      "Review: i first bought a java teeccino at my local health coop i liked it a lot but was curious about the other flavors so i got the sampler pack from teeccino online so i could try all the flavorsvanilla nut is a nice flavor truthfully some of the flavors do not seem to be differentiated from each other but this one definitely has its own flavor profile i keep coming up with vanilla coconut when i taste it if you are looking for something to taste as close as possible to coffee this isnt the flavor i would suggest maya caffe for the closest flavor to coffee but this vanilla nut is very enjoyable in its own rightthis beverage is a nice alternative to coffee no it does not taste like coffee exactly it has its own taste and feel but im finding that i really enjoy drinking it for the flavor it does have the only negative aspect is that it does contain more calories than coffee or tea however the way i feel after i drink it in comparison to coffee far outweighs the small calorie contenti use 1 tb in my french press and about 12oz of water boiled in my tea kettle such a quick easy inexpensive and enjoyable method of brewingi would reccommend the sampler pack free shipping from the teeccino website and then order your favorite flavors through subscribe and save on amazon that will give you the best price\n",
      "Summary: nice drink\n",
      "--------------------------------------------------\n",
      "Review: these are a great product for people who need to eat glutenfree and are on the go for breakfast the taste is good and they are most importantly gluten free and quick to eat\n",
      "Summary: breakfast bars\n",
      "--------------------------------------------------\n",
      "Review: you would never know it was sugar free or low fat even before chilling it is thick smooth and creamy with a tangy cheesecake flavor i enjoyed with some fresh strawberries you have a decadent snack my boyfriend loved it too and couldnt believe it sugar free or that it could have been made from a mix in one step recommended\n",
      "Summary: delicious\n",
      "--------------------------------------------------\n",
      "Review: i drink a lot of water and this is great in a liquid it mixes well not like a powder that does not always mix well or creats a powder cloud great taste and very convient to use my only complaint is that i can see using to much of it at one time the more you add the more flavor its your choice\n",
      "Summary: mio mango peach water flavor\n",
      "--------------------------------------------------\n",
      "Review: communitys cafe special has become my favorite standby coffee not too dark or bold not too mild since leaving the south i cant find it in the grocery stores so im thrilled by its availability on amazon plus youd never get a deal this great in the stores anyway four pounds of great coffee free shipping dropped right at your door life is good\n",
      "Summary: wont start the day without it\n",
      "--------------------------------------------------\n",
      "Review: i have had problems going to sleep for most of my adult life so any time i see something that isnt a sleeping pill to try out i try it i was surprised that this stuff actually worked ive used it a number of times and it has been consistently effective at helping me fall asleep very happy with this product\n",
      "Summary: good sleep\n",
      "--------------------------------------------------\n",
      "Review: i love pamelas ultimate baking mix it is a great product for those not able to eat wheat it makes so many different items and i also use it for gravy and really anything else that calls for flour i love that it is high in protein and fiber as well\n",
      "Summary: yum\n",
      "--------------------------------------------------\n",
      "Review: we had olive oil served with bread recently in an italian restaurant it was so good i had to find out the source this was the oil i will order some more very soon\n",
      "Summary: spanish olive oil for italian restaurant\n",
      "--------------------------------------------------\n",
      "Review: this is a healthy fast meal it seemed spiced perfect i added a teaspoon of sesame oil and it was like a dish from a restaurant just watch sodium i forgot to look and had a headache laterthough may have been a combo deal other part of a quick fix meal i dont see sodium on herebut its so good when it comes again i will alter to be sure i can eat its healthy for sure just curious on the sodium\n",
      "Summary: fabulous\n",
      "--------------------------------------------------\n",
      "Review: my cats really like this food and when walmart stopped carrying it in our area i found it at target for a good price however when the price went up there i found it on amazon the price was a little higher but with gas and sales tax i figured out it would be cheaper plus i save 15 off the price since i have it delivered each month now i dont have to lug it around the store it just gets delivered to my house plus no sales tax\n",
      "Summary: great food at a great price\n",
      "--------------------------------------------------\n",
      "Review: sugar twin is the only artificial sweetener my husband and i used for years and we were devastated when it was no longer available in the individual packets i dont even remember what made me look online for the product but im so glad i found it the shipment arrived on time in its original box in excellent condition\n",
      "Summary: sugar twin\n",
      "--------------------------------------------------\n",
      "Review: i used this to make a traditional irish dish for my son he really liked it i couldnt enjoy it because of new denture but still have some in the freezer in vacuum bagsthere were four pounds and i quartered it and plan on making up for it wes said he thought it tasted like corned beef ill let you know\n",
      "Summary: really traditional irish bacon\n",
      "--------------------------------------------------\n",
      "Review: nutiva extra virgin coconut oil tastes so good in all the pan fried foods ive cooked so far ive fried up charsiu fried rice shrimp fried rice scrambled eggs and even made grilled cheese sandwiches using this oil everything comes out tasting great with just a tiny hint of coconut aftertaste not enough to overpower the dishes but just enough for people to go what was that extra seasoning you used its really goodthe bottles pictured are not exactly the bottle you will receive i got two smaller looking tubs of the coconut oil there were no problems with shipping but i did notice that on a 70 degree day that my bottle of oil went liquid so i can see problems arising when shipping during summer i havent tried using this product on my skin or hair but i can imagine it would smell nice i love coconut highly recommended\n",
      "Summary: gives a good hint of coconut to food\n",
      "--------------------------------------------------\n",
      "Review: i use this product and cant always find it in the health food store i prefer the golden flax seed thanks for a quick order and an excellent product the service on this order was terrific\n",
      "Summary: great product\n",
      "--------------------------------------------------\n",
      "Review: i keep these on hand for car trips with the grandkids you can turn a boring bottle of water into a flavorful koolaid drink by just adding a single packet to it just open the bottle pour in the contents of one packet then close and shake each packet contains both the koolaid mix and the amount of sugar thats needed for a single drink perfect size for a typical water bottle we use reusable watter bottles with them so we can fill them up with water when ever we need something to drink and then add the koolaidthey taste just like when you mix a regular full sized pitcher of koolaid just in a single serving size these single servings work really well for us since we never drink a whole pitcher when me make one and end up pouring half of it out these were such a great idea\n",
      "Summary: great for when you want to make a single glass of koolaid\n",
      "--------------------------------------------------\n",
      "Review: our dogs love zukes and i was happy to find them on amazon when i ordered these they were the regular retail price but i see now they are about 6 times more than that so i doubt i will be ordering from amazon again unless the prices come back down but these are great bones made from great ingredients from a great company couldnt ask for much more\n",
      "Summary: dog loves them price increase\n",
      "--------------------------------------------------\n",
      "Review: i ordered three of these to serve my holiday guests during their weeklong visitone of my guests who grew up in minnesota pronounced this the best kringle shed ever had anywhere the pastry is flaky and tender the filling full of flavor nothing artificialtasting at all and the icing is creamy and richthese freeze well too mine had been stored in my freezer for 2 weeks prior to serving and they tasted freshly madei will definitely order these again if theyre still available\n",
      "Summary: absolutely delightful\n",
      "--------------------------------------------------\n",
      "Review: ezekiel cereal is just plain delicious eat it with fruit yogurt or anything else you can think of i eat mine with almond milk i like to let it soak for a couple minutes to soften much softer than grapenuts and much more flavor it is much better than any of its competitors of course no one else is specifically using sprouted grain i was trying to eat healthy and was eating oatmeal however oatmeal never carried me through to lunch without feeling ravenous ezekiel cereal keeps me feeling full\n",
      "Summary: ezekiel 49 sprouted grains are the best\n",
      "--------------------------------------------------\n",
      "Review: i love this tealet me say i have never liked iced tea until recently i was more of a coffee lover but with summer coming up i thought i would try this at first i fell in love with the lemon flavored version then i ordered the variety pack i was not a fan of the raspberry but the peach is wonderfulit has a nice peach flavor and just the right amount of sweetness i am not a big fan of sweet tea mainly because my last few tries of southern sweet tea tasted like i was drinking a glass of sugar this has a nice blend of a tea flavor peach and a hint of sweetnesstwo thumbs up for mejust ordered 2 full boxes\n",
      "Summary: love the peach flavor\n",
      "--------------------------------------------------\n",
      "Review: wiley wallaby licorice is the best it is more expensive than regular licorice brands but it is worth the price the price is not bad when product is purchased in a pack of 8 australian licorice is much softer and fresher than regular licorice i have trouble finding this brand in regular grocery stores so often place order through amazon\n",
      "Summary: delicious and fresh\n",
      "--------------------------------------------------\n",
      "Review: these bars are the best many of whom ive shared these bars with agree that they are so delicious and want them againi love the strawberry flavor the most but other than that the blueberry flavor is the second best i would eat these over and over again of course ill get sick sooner or later blehh my favorite bars by far try them\n",
      "Summary: yummy\n",
      "--------------------------------------------------\n",
      "Review: these candy boxes were a big hit with my sons and their friend i bought three boxes two for my kids and one for their friend for my sons birthday and the kids really had a blast with the candy lots of fun for the kids\n",
      "Summary: lots of fun\n",
      "--------------------------------------------------\n",
      "Review: this is a delicious seasoning i had been buying it in a health food store for alot more money and they stopped selling it i was so happy to find it on amazon now i order it by subscription so i never run out of it and i get it for a fantastic priceit is my familys alltime favorite spice blend i use it on every kind of pizza both fresh from the pizza parlor as well as on all frozen pizzas when im out of jared pasta sauce i use it to make my own combining canned tomatoes frontier pizza seasoning a little olive oil a spoon of sugar some salt and pepper and finally some parmesan cheese in a pinch this mades a very tasty sauce i especially love the fennel they add to this scrumptious blendive even given it out for gifts by combining it with a pizza cutter can you tell i like this spice\n",
      "Summary: delicious for pasta and pizza\n",
      "--------------------------------------------------\n",
      "Review: received this through voxbox and loved it my son ended up with most of it which is fine excellent product to keep on hand or in the diaper bag\n",
      "Summary: delicious\n",
      "--------------------------------------------------\n",
      "Review: this is some of the best coffee ive ever hadsmells wonderful while brewingand is some of the richest and best balanced flavor ive experiencedone pound bag at a great price\n",
      "Summary: highly recommended\n",
      "--------------------------------------------------\n",
      "Review: this sunbutter spread is absolutely delicious i enjoy it for breakfast lunch or anytime snack great value for the excellent quality\n",
      "Summary: delicious\n",
      "--------------------------------------------------\n",
      "Review: i bought this for my boyfriend as a fathers day gift he loves hot sauce so i wanted to really get him something hot he loves it he is now the prank master though good hot sauce he loves it\n",
      "Summary: hot\n",
      "--------------------------------------------------\n"
     ]
    }
   ],
   "source": [
    "# Loop through each rating\n",
    "ratings = sorted(df_imbalanced['Rating'].unique())\n",
    "\n",
    "for r in ratings:\n",
    "    subset = df_imbalanced[df_imbalanced['Rating'] == r][['review_text', 'Summary']].drop_duplicates()\n",
    "    \n",
    "    print(f\"\\n===== Rating {r} =====\")\n",
    "    \n",
    "    # Print first 15 unique pairs\n",
    "    for i, row in subset.head(30).iterrows():\n",
    "        print(f\"Review: {row['review_text']}\")\n",
    "        print(f\"Summary: {row['Summary']}\")\n",
    "        print(\"-\" * 50)"
   ]
  },
  {
   "cell_type": "code",
   "execution_count": 47,
   "id": "327f930d-0668-402d-8a9f-b75b53d2073a",
   "metadata": {},
   "outputs": [
    {
     "name": "stdout",
     "output_type": "stream",
     "text": [
      "Imbalanced class distribution:\n",
      " Rating\n",
      "4    37775\n",
      "3    29632\n",
      "5    25184\n",
      "2    20710\n",
      "1    12600\n",
      "Name: count, dtype: int64\n"
     ]
    }
   ],
   "source": [
    "# Check counts\n",
    "print(\"Imbalanced class distribution:\\n\", df_imbalanced['Rating'].value_counts())"
   ]
  },
  {
   "cell_type": "code",
   "execution_count": 48,
   "id": "d7f95e6c-02fd-47e7-9222-cc537683e948",
   "metadata": {},
   "outputs": [
    {
     "data": {
      "text/plain": [
       "(125901, 5)"
      ]
     },
     "execution_count": 48,
     "metadata": {},
     "output_type": "execute_result"
    }
   ],
   "source": [
    "df_imbalanced.shape"
   ]
  },
  {
   "cell_type": "code",
   "execution_count": 49,
   "id": "b74e3d47-83b7-4eb1-a57f-9fe5c9d0b27e",
   "metadata": {},
   "outputs": [
    {
     "data": {
      "image/png": "[encoded data removed]",
      "text/plain": [
       "<Figure size 640x480 with 1 Axes>"
      ]
     },
     "metadata": {},
     "output_type": "display_data"
    }
   ],
   "source": [
    "sns.countplot(x='Rating', data=df_imbalanced)\n",
    "plt.title(\"Rating Distribution After Imbalancing\")\n",
    "plt.xlabel(\"Rating\")\n",
    "plt.ylabel(\"Number of Reviews\")\n",
    "plt.show()"
   ]
  },
  {
   "cell_type": "code",
   "execution_count": 62,
   "id": "00f1c2c1-a514-40bc-badc-da0757437b3e",
   "metadata": {},
   "outputs": [],
   "source": [
    "rating_counts_imbalanced = df_imbalanced['Rating'].value_counts().sort_index()"
   ]
  },
  {
   "cell_type": "code",
   "execution_count": 76,
   "id": "6d17c78e-6894-40f6-80e5-44ef1e5892bf",
   "metadata": {},
   "outputs": [
    {
     "data": {
      "image/png": "[encoded data removed]",
      "text/plain": [
       "<Figure size 700x700 with 1 Axes>"
      ]
     },
     "metadata": {},
     "output_type": "display_data"
    }
   ],
   "source": [
    "# Labels and sizes\n",
    "labels = rating_counts_imbalanced.index.astype(str)\n",
    "sizes = rating_counts_imbalanced.values\n",
    "\n",
    "# Plot pie chart\n",
    "plt.figure(figsize=(7, 7))\n",
    "plt.pie(sizes, labels=labels, autopct='%1.1f%%', startangle=140, colors=plt.cm.Pastel1.colors)\n",
    "plt.title('Distribution of Review Ratings')\n",
    "plt.axis('equal')  # Equal aspect ratio makes the pie chart circular\n",
    "plt.show()"
   ]
  },
  {
   "cell_type": "code",
   "execution_count": 5,
   "id": "1aeb1a8f-b54b-4f70-b83a-beb013d47570",
   "metadata": {},
   "outputs": [],
   "source": [
    "df1 = pd.read_csv('fullstack-imbalanced-dataset.csv')"
   ]
  },
  {
   "cell_type": "code",
   "execution_count": 7,
   "id": "97be3a27-f699-46d0-96a5-04dfee0e0832",
   "metadata": {},
   "outputs": [
    {
     "name": "stdout",
     "output_type": "stream",
     "text": [
      "Food items mentioned in reviews:\n",
      "['coffee', 'tea', 'chocolate', 'water', 'sugar', 'milk', 'sauce', 'cookies', 'oil', 'snack', 'salt', 'cereal', 'butter', 'rice', 'candy', 'chicken', 'juice', 'coconut', 'cheese', 'beans', 'peanut', 'corn', 'chips', 'honey', 'cookie', 'syrup', 'soup', 'bread', 'ginger', 'cream', 'pasta', 'popcorn', 'cinnamon', 'crackers', 'noodles', 'lemon', 'wheat', 'date', 'soda', 'flour', 'orange', 'apple', 'soy', 'beef', 'espresso', 'granola', 'cake', 'oatmeal', 'pepper', 'snacks', 'fish', 'cherry', 'olive', 'strawberry', 'almond', 'peanuts', 'almonds', 'mint', 'pumpkin', 'salmon', 'chili', 'potato', 'garlic', 'tuna', 'oats', 'peach', 'candies', 'banana', 'yogurt', 'blueberry', 'cracker', 'wine', 'hazelnut', 'mango', 'vinegar', 'grape', 'lime', 'curry', 'raspberry', 'tomato', 'jelly', 'bacon', 'eggs', 'egg', 'tart', 'pomegranate', 'pie', 'turkey', 'mocha', 'potatoes', 'soups', 'taco', 'pancakes', 'broth', 'latte', 'biscuits', 'pork', 'tomatoes', 'pizza', 'onion', 'broccoli', 'cappuccino', 'beer', 'cakes', 'cherries', 'peppers', 'sandwich', 'peas', 'mustard', 'dates', 'cashews', 'blueberries', 'salsa', 'herbs', 'wrap', 'apples', 'pineapple', 'sesame', 'strawberries', 'watermelon', 'lemonade', 'fig', 'coke', 'carrots', 'spaghetti', 'brownies', 'cola', 'donut', 'muffins', 'quinoa', 'waffles', 'onions', 'steak', 'barley', 'sandwiches', 'brownie', 'mushrooms', 'sausage', 'pancake', 'jam', 'shrimp', 'pear', 'pudding', 'duck', 'toffee', 'kiwi', 'rum', 'lamb', 'spinach', 'smoothie', 'blackberry', 'walnuts', 'chia', 'mayo', 'basil', 'tacos', 'marshmallow', 'waffle', 'biscuit', 'bananas', 'pea', 'ketchup', 'ham', 'muffin', 'tortilla', 'peaches', 'mushroom', 'crisps', 'lobster', 'pears', 'celery', 'donuts', 'pistachios', 'crab', 'cashew', 'lentils', 'cloves', 'figs', 'walnut', 'wafers', 'nutmeg', 'carrot', 'wafer', 'clam', 'vodka', 'raspberries', 'pepsi', 'mayonnaise', 'pickles', 'parsley', 'lemons', 'plum', 'clove', 'cilantro', 'rosemary', 'dill', 'burgers', 'pickle', 'oranges', 'flaxseed', 'burger', 'lettuce', 'cardamom', 'hazelnuts', 'pastry', 'kale', 'mangoes', 'paneer', 'wraps', 'sardine', 'grapes', 'ghee', 'turmeric', 'pistachio', 'cauliflower', 'cucumber', 'whiskey', 'avocado', 'oregano', 'gin', 'melon', 'pastries', 'guava', 'millet', 'blackberries', 'cabbage', 'brandy', 'nachos', 'thyme', 'oyster', 'asparagus', 'anchovy', 'kimchi', 'coriander', 'limes', 'papaya', 'eggplant', 'squid', 'plums', 'zucchini', 'octopus', 'chilies', 'cornflakes', 'milkshake', 'icecream', 'okra', 'hotdogs', 'chutney', 'radish', 'biryani', 'sauerkraut', 'curd', 'hotdog', 'turnip', 'prawns', 'dosa', 'prawn', 'beetroot', 'samosa', 'brinjal', 'melons', 'soysauce', 'mutton']\n"
     ]
    }
   ],
   "source": [
    "import re\n",
    "from collections import Counter\n",
    "\n",
    "# Predefined food keywords (your big set)\n",
    "food_items = {\n",
    "    # Fruits\n",
    "    \"apple\",\"apples\",\"banana\",\"bananas\",\"orange\",\"oranges\",\"mango\",\"mangoes\",\n",
    "    \"grape\",\"grapes\",\"pear\",\"pears\",\"peach\",\"peaches\",\"plum\",\"plums\",\"kiwi\",\"melon\",\"melons\",\n",
    "    \"watermelon\",\"pineapple\",\"papaya\",\"guava\",\"lemon\",\"lemons\",\"lime\",\"limes\",\"cherry\",\"cherries\",\n",
    "    \"strawberry\",\"strawberries\",\"blueberry\",\"blueberries\",\"raspberry\",\"raspberries\",\"blackberry\",\"blackberries\",\n",
    "    \"fig\",\"figs\",\"date\",\"dates\",\"coconut\",\"pomegranate\",\"avocado\",\n",
    "\n",
    "    # Vegetables\n",
    "    \"potato\",\"potatoes\",\"tomato\",\"tomatoes\",\"onion\",\"onions\",\"garlic\",\"carrot\",\"carrots\",\"spinach\",\n",
    "    \"cabbage\",\"broccoli\",\"cauliflower\",\"peas\",\"pea\",\"beans\",\"lentils\",\"corn\",\"lettuce\",\"cucumber\",\n",
    "    \"zucchini\",\"pumpkin\",\"beetroot\",\"okra\",\"chili\",\"chilies\",\"pepper\",\"peppers\",\"mushroom\",\"mushrooms\",\n",
    "    \"ginger\",\"celery\",\"radish\",\"turnip\",\"eggplant\",\"brinjal\",\"asparagus\",\"kale\",\n",
    "\n",
    "    # Grains / Staples\n",
    "    \"rice\",\"wheat\",\"flour\",\"bread\",\"pasta\",\"spaghetti\",\"noodles\",\"oats\",\"oatmeal\",\"barley\",\n",
    "    \"quinoa\",\"millet\",\"cereal\",\"cornflakes\",\"granola\",\"tortilla\",\"biscuit\",\"biscuits\",\"cracker\",\"crackers\",\n",
    "\n",
    "    # Dairy & Eggs\n",
    "    \"milk\",\"butter\",\"cheese\",\"cream\",\"yogurt\",\"curd\",\"paneer\",\"ghee\",\"icecream\",\"ice cream\",\n",
    "    \"egg\",\"eggs\",\n",
    "\n",
    "    # Meat & Seafood\n",
    "    \"chicken\",\"beef\",\"pork\",\"mutton\",\"lamb\",\"turkey\",\"duck\",\"fish\",\"salmon\",\"tuna\",\"shrimp\",\"prawn\",\"prawns\",\n",
    "    \"crab\",\"lobster\",\"sardine\",\"anchovy\",\"oyster\",\"clam\",\"squid\",\"octopus\",\"steak\",\"ham\",\"bacon\",\"sausage\",\n",
    "\n",
    "    # Beverages\n",
    "    \"coffee\",\"tea\",\"latte\",\"cappuccino\",\"espresso\",\"mocha\",\"milkshake\",\"smoothie\",\"juice\",\"soda\",\"cola\",\n",
    "    \"pepsi\",\"coke\",\"beer\",\"wine\",\"whiskey\",\"rum\",\"vodka\",\"gin\",\"brandy\",\"water\",\"lemonade\",\n",
    "\n",
    "    # Sweets & Snacks\n",
    "    \"cake\",\"cakes\",\"pastry\",\"pastries\",\"donut\",\"donuts\",\"cookie\",\"cookies\",\"brownie\",\"brownies\",\"muffin\",\"muffins\",\n",
    "    \"chocolate\",\"candies\",\"candy\",\"toffee\",\"marshmallow\",\"pudding\",\"pie\",\"tart\",\"icecream\",\"ice cream\",\n",
    "    \"chips\",\"crisps\",\"nachos\",\"popcorn\",\"snack\",\"snacks\",\"cracker\",\"crackers\",\"wafer\",\"wafers\",\n",
    "\n",
    "    # Condiments & Spices\n",
    "    \"salt\",\"sugar\",\"pepper\",\"chili\",\"cinnamon\",\"clove\",\"cloves\",\"nutmeg\",\"cardamom\",\"turmeric\",\"curry\",\n",
    "    \"mustard\",\"vinegar\",\"sauce\",\"ketchup\",\"mayonnaise\",\"mayo\",\"soy\",\"soysauce\",\"hot sauce\",\"salsa\",\"chutney\",\n",
    "    \"herbs\",\"oregano\",\"thyme\",\"basil\",\"parsley\",\"rosemary\",\"mint\",\"dill\",\"coriander\",\"cilantro\",\n",
    "\n",
    "    # Oils & Nuts\n",
    "    \"oil\",\"olive\",\"olive oil\",\"sunflower oil\",\"coconut oil\",\"groundnut oil\",\"almond\",\"almonds\",\"cashew\",\"cashews\",\n",
    "    \"peanut\",\"peanuts\",\"hazelnut\",\"hazelnuts\",\"walnut\",\"walnuts\",\"pistachio\",\"pistachios\",\"sesame\",\"chia\",\"flaxseed\",\n",
    "\n",
    "    # Misc & Processed Foods\n",
    "    \"burger\",\"burgers\",\"pizza\",\"sandwich\",\"sandwiches\",\"wrap\",\"wraps\",\"taco\",\"tacos\",\"hotdog\",\"hotdogs\",\n",
    "    \"pancake\",\"pancakes\",\"waffle\",\"waffles\",\"dosa\",\"idli\",\"samosa\",\"biryani\",\"curry\",\"soup\",\"soups\",\"broth\",\n",
    "    \"syrup\",\"jam\",\"jelly\",\"honey\",\"pickles\",\"pickle\",\"kimchi\",\"sauerkraut\"\n",
    "}\n",
    "\n",
    "# Simple preprocessing\n",
    "def simple_preprocess(text):\n",
    "    text = str(text).lower()\n",
    "    tokens = re.findall(r\"[a-z]+\", text)\n",
    "    return tokens\n",
    "\n",
    "# Collect all tokens from df1.review_text\n",
    "all_tokens = []\n",
    "for review in df1[\"review_text\"]:\n",
    "    all_tokens.extend(simple_preprocess(review))\n",
    "\n",
    "# Keep only food-related words\n",
    "food_mentions = [w for w in all_tokens if w in food_items]\n",
    "\n",
    "# Count top food items\n",
    "food_counts = Counter(food_mentions).most_common()\n",
    "\n",
    "# Just keep unique food items mentioned (sorted by frequency)\n",
    "food_only_list = [food for food, count in food_counts]\n",
    "\n",
    "print(\"Food items mentioned in reviews:\")\n",
    "print(food_only_list)\n"
   ]
  },
  {
   "cell_type": "code",
   "execution_count": 103,
   "id": "78025122-8b79-4ced-b893-fe37e21281bf",
   "metadata": {},
   "outputs": [
    {
     "name": "stderr",
     "output_type": "stream",
     "text": [
      "[nltk_data] Downloading package stopwords to\n",
      "[nltk_data]     C:\\Users\\TOSHIBA\\AppData\\Roaming\\nltk_data...\n",
      "[nltk_data]   Package stopwords is already up-to-date!\n",
      "C:\\Users\\TOSHIBA\\anaconda3\\Lib\\site-packages\\spacy\\pipeline\\lemmatizer.py:211: UserWarning: [W108] The rule-based lemmatizer did not find POS annotation for one or more tokens. Check that your pipeline includes components that assign token.pos, typically 'tagger'+'attribute_ruler' or 'morphologizer'.\n",
      "  warnings.warn(Warnings.W108)\n",
      "C:\\Users\\TOSHIBA\\anaconda3\\Lib\\site-packages\\spacy\\pipeline\\lemmatizer.py:211: UserWarning: [W108] The rule-based lemmatizer did not find POS annotation for one or more tokens. Check that your pipeline includes components that assign token.pos, typically 'tagger'+'attribute_ruler' or 'morphologizer'.\n",
      "  warnings.warn(Warnings.W108)\n",
      "C:\\Users\\TOSHIBA\\anaconda3\\Lib\\site-packages\\spacy\\pipeline\\lemmatizer.py:211: UserWarning: [W108] The rule-based lemmatizer did not find POS annotation for one or more tokens. Check that your pipeline includes components that assign token.pos, typically 'tagger'+'attribute_ruler' or 'morphologizer'.\n",
      "  warnings.warn(Warnings.W108)\n",
      "C:\\Users\\TOSHIBA\\anaconda3\\Lib\\site-packages\\spacy\\pipeline\\lemmatizer.py:211: UserWarning: [W108] The rule-based lemmatizer did not find POS annotation for one or more tokens. Check that your pipeline includes components that assign token.pos, typically 'tagger'+'attribute_ruler' or 'morphologizer'.\n",
      "  warnings.warn(Warnings.W108)\n",
      "C:\\Users\\TOSHIBA\\anaconda3\\Lib\\site-packages\\spacy\\pipeline\\lemmatizer.py:211: UserWarning: [W108] The rule-based lemmatizer did not find POS annotation for one or more tokens. Check that your pipeline includes components that assign token.pos, typically 'tagger'+'attribute_ruler' or 'morphologizer'.\n",
      "  warnings.warn(Warnings.W108)\n"
     ]
    },
    {
     "name": "stdout",
     "output_type": "stream",
     "text": [
      "\n",
      "Rating: 1\n",
      " Max Word: ('like', 6055)\n",
      " Mid Words (up to 20): [('product', 5654), ('taste', 4662), ('would', 4201), ('one', 4042), ('good', 3001), ('coffee', 2979), ('buy', 2574), ('even', 2528), ('food', 2469), ('flavor', 2428), ('get', 2363), ('amazon', 2338), ('tea', 2163), ('bad', 2050), ('could', 1966), ('really', 1831), ('box', 1808), ('tried', 1757), ('bought', 1746), ('time', 1685)]\n",
      " Min Word: ('tippy', 1)\n",
      "\n",
      "Rating: 2\n",
      " Max Word: ('like', 13357)\n",
      " Mid Words (up to 20): [('taste', 10580), ('would', 7959), ('product', 7904), ('good', 7780), ('flavor', 7602), ('one', 6765), ('coffee', 6076), ('much', 4961), ('tea', 4888), ('really', 4546), ('get', 4363), ('better', 3597), ('even', 3516), ('buy', 3445), ('food', 3381), ('great', 3253), ('chocolate', 3027), ('could', 3015), ('tried', 2968), ('try', 2937)]\n",
      " Min Word: ('unresponsiveness', 1)\n",
      "\n",
      "Rating: 3\n",
      " Max Word: ('like', 18677)\n",
      " Mid Words (up to 20): [('good', 16436), ('taste', 14763), ('would', 12027), ('flavor', 11820), ('product', 10677), ('coffee', 9949), ('one', 9650), ('much', 7601), ('tea', 7493), ('really', 7125), ('great', 6891), ('get', 6848), ('little', 6181), ('better', 6158), ('food', 4979), ('price', 4953), ('buy', 4710), ('use', 4690), ('think', 4442), ('chocolate', 4431)]\n",
      " Min Word: ('lifer', 1)\n",
      "\n",
      "Rating: 4\n",
      " Max Word: ('good', 27024)\n",
      " Mid Words (up to 20): [('like', 21683), ('great', 14834), ('taste', 14587), ('coffee', 13206), ('flavor', 13067), ('one', 12596), ('would', 11900), ('product', 11544), ('tea', 10095), ('little', 8849), ('really', 8578), ('get', 7917), ('much', 7737), ('love', 6824), ('price', 6751), ('use', 6618), ('food', 6531), ('better', 6306), ('nice', 5904), ('also', 5899)]\n",
      " Min Word: ('creepin', 1)\n",
      "\n",
      "Rating: 5\n",
      " Max Word: ('great', 12636)\n",
      " Mid Words (up to 20): [('good', 9656), ('like', 9502), ('love', 8092), ('one', 6799), ('tea', 6795), ('taste', 6679), ('product', 6520), ('best', 6513), ('coffee', 6303), ('flavor', 6007), ('food', 4569), ('get', 4491), ('really', 4296), ('would', 4127), ('use', 4013), ('amazon', 3837), ('find', 3790), ('also', 3768), ('price', 3742), ('time', 3621)]\n",
      " Min Word: ('flavorsvanilla', 1)\n"
     ]
    }
   ],
   "source": [
    "import spacy\n",
    "from collections import Counter\n",
    "from nltk.corpus import stopwords\n",
    "import nltk\n",
    "\n",
    "nltk.download('stopwords')\n",
    "stop_words = set(stopwords.words(\"english\"))\n",
    "# Manually remove unwanted tokens\n",
    "stop_words.add(\"nt\")\n",
    "\n",
    "# Load spacy in faster mode (disable parser, ner)\n",
    "nlp = spacy.load(\"en_core_web_sm\", disable=[\"parser\", \"ner\", \"tagger\"])\n",
    "\n",
    "\n",
    "def get_unique_word_stats(df, text_col=\"review_text\", summary_col=\"Summary\", rating_col=\"Rating\"):\n",
    "    results = {}\n",
    "    \n",
    "    for rating in sorted(df[rating_col].unique()):\n",
    "        # Combine review_text + summary\n",
    "        texts = df[df[rating_col] == rating][text_col].astype(str) + \" \" + df[df[rating_col] == rating][summary_col].astype(str)\n",
    "        all_words = []\n",
    "        \n",
    "        for doc in nlp.pipe(texts, batch_size=500):\n",
    "            tokens = [\n",
    "                token.text.lower() \n",
    "                for token in doc \n",
    "                if token.is_alpha and token.text.lower() not in stop_words\n",
    "            ]\n",
    "            all_words.extend(tokens)\n",
    "        \n",
    "        counter = Counter(all_words)\n",
    "        \n",
    "        if counter:\n",
    "            max_word = counter.most_common(1)[0]\n",
    "            mid_words = counter.most_common(21)[1:]  # next 20 after max\n",
    "            min_word = min(counter.items(), key=lambda x: x[1])\n",
    "            \n",
    "            results[rating] = {\n",
    "                \"Max Word\": max_word,\n",
    "                \"Mid Words (up to 20)\": mid_words,\n",
    "                \"Min Word\": min_word\n",
    "            }\n",
    "        else:\n",
    "            results[rating] = {\n",
    "                \"Max Word\": None,\n",
    "                \"Mid Words (up to 20)\": [],\n",
    "                \"Min Word\": None\n",
    "            }\n",
    "    \n",
    "    return results\n",
    "\n",
    "# Example usage:\n",
    "results = get_unique_word_stats(df_imbalanced, text_col=\"review_text\", summary_col=\"Summary\", rating_col=\"Rating\")\n",
    "\n",
    "for rating, stats in results.items():\n",
    "    print(f\"\\nRating: {rating}\")\n",
    "    print(\" Max Word:\", stats[\"Max Word\"])\n",
    "    print(\" Mid Words (up to 20):\", stats[\"Mid Words (up to 20)\"])\n",
    "    print(\" Min Word:\", stats[\"Min Word\"])\n"
   ]
  },
  {
   "cell_type": "code",
   "execution_count": 133,
   "id": "5ecdb730-4144-4fbe-a508-b56ddceb30e2",
   "metadata": {},
   "outputs": [
    {
     "name": "stderr",
     "output_type": "stream",
     "text": [
      "[nltk_data] Downloading package stopwords to\n",
      "[nltk_data]     C:\\Users\\TOSHIBA\\AppData\\Roaming\\nltk_data...\n",
      "[nltk_data]   Package stopwords is already up-to-date!\n"
     ]
    },
    {
     "name": "stdout",
     "output_type": "stream",
     "text": [
      "\n",
      "Rating: 4\n",
      " Max Word: ('goodbetter', 15)\n",
      " Mid Words (up to 20): [('5gum', 12), ('seasoningsbut', 10), ('smeagol', 9), ('availasin', 9), ('tristan', 9), ('52697', 9), ('talisker', 9), ('benzocaine', 9), ('cornflake', 8), ('ofs', 8), ('agatha', 8), ('anchiovy', 7), ('finerecommended', 7), ('admission', 7), ('blueray', 7), ('soledad', 7), ('nursettes', 7), ('mekong', 7), ('bluegrass', 7), ('zhejiang', 7)]\n",
      " Min Word: ('creepin', 1)\n",
      "\n",
      "Rating: 3\n",
      " Max Word: ('tompson', 12)\n",
      " Mid Words (up to 20): [('chen', 12), ('lansinol', 11), ('pantai', 10), ('pims', 10), ('okjust', 8), ('jbmc', 8), ('astro', 7), ('marbella', 7), ('assign', 6), ('bitterso', 6), ('powdermix', 6), ('jerkers', 6), ('biotene', 6), ('okit', 6), ('prost', 6), ('chens', 6), ('dentie', 6), ('pennsylvania1', 6), ('scanoctober', 6), ('kreplach', 5)]\n",
      " Min Word: ('lifer', 1)\n",
      "\n",
      "Rating: 2\n",
      " Max Word: ('mongo', 8)\n",
      " Mid Words (up to 20): [('glencarin', 8), ('iberico', 7), ('stakich', 7), ('castlevetrano', 7), ('jtc', 6), ('tako', 6), ('venetian', 6), ('kirkoswald', 6), ('schwan', 5), ('ducal', 5), ('fixens', 5), ('necaps', 5), ('probes', 5), ('zareba', 5), ('dhaaha', 5), ('briosa', 5), ('contata', 5), ('diyagama', 5), ('bergan', 5), ('nestum', 4)]\n",
      " Min Word: ('unresponsiveness', 1)\n",
      "\n",
      "Rating: 1\n",
      " Max Word: ('bbd', 30)\n",
      " Mid Words (up to 20): [('containmentnow', 9), ('carmellini', 9), ('bastianich', 9), ('flavorsboil', 9), ('todd', 7), ('grams7', 7), ('expiredtimothys', 7), ('fanconi', 6), ('limbaugh', 6), ('chimpanzee', 6), ('101012crunch', 6), ('casava', 6), ('netgrocer', 5), ('cancellation', 5), ('632500', 5), ('foulest', 5), ('fatalities', 5), ('sk', 5), ('kadota', 5), ('bolets', 5)]\n",
      " Min Word: ('suggestsonce', 1)\n",
      "\n",
      "Rating: 5\n",
      " Max Word: ('fastgreat', 11)\n",
      " Mid Words (up to 20): [('sportea', 7), ('presplenda', 6), ('mamade', 6), ('jellybelly', 6), ('kushka', 6), ('pumkinseed', 6), ('shizzle', 5), ('cocoquik', 5), ('havea', 5), ('cairo', 5), ('andshe', 5), ('funtime', 5), ('caroline', 5), ('dreambones', 5), ('granita', 5), ('vegancompassion', 5), ('pacifier', 5), ('calzones', 5), ('gulten', 5), ('maitlands', 5)]\n",
      " Min Word: ('flavorsvanilla', 1)\n"
     ]
    }
   ],
   "source": [
    "from collections import Counter, defaultdict\n",
    "from nltk.corpus import stopwords\n",
    "import nltk\n",
    "\n",
    "nltk.download('stopwords')\n",
    "stop_words = set(stopwords.words(\"english\"))\n",
    "\n",
    "def get_unique_word_stats_per_rating(df1, text_col=\"review_text\", summary_col=\"Summary\", rating_col=\"Rating\", remove_stopwords=False):\n",
    "    # Step 1: Collect word counts per rating\n",
    "    rating_word_counts = defaultdict(Counter)\n",
    "    \n",
    "    for _, row in df1.iterrows():\n",
    "        rating = row[rating_col]\n",
    "        text = str(row[text_col]) + \" \" + str(row[summary_col])  # Combine review + summary\n",
    "        words = text.split()\n",
    "        \n",
    "        for w in words:\n",
    "            w_lower = w.lower()\n",
    "            if remove_stopwords and w_lower in stop_words:\n",
    "                continue\n",
    "            rating_word_counts[rating][w_lower] += 1\n",
    "\n",
    "    # Step 2: Find unique words and calculate max, mid, min\n",
    "    results = {}\n",
    "    for r in rating_word_counts:\n",
    "        unique_words = {}\n",
    "        for word, count in rating_word_counts[r].items():\n",
    "            in_others = any(word in rating_word_counts[other] for other in rating_word_counts if other != r)\n",
    "            if not in_others:\n",
    "                unique_words[word] = count\n",
    "        \n",
    "        if unique_words:\n",
    "            counter = Counter(unique_words)\n",
    "            max_word = counter.most_common(1)[0]\n",
    "            mid_words = counter.most_common(21)[1:]  # next 20 after max\n",
    "            min_word = min(counter.items(), key=lambda x: x[1])\n",
    "            results[r] = {\n",
    "                \"Max Word\": max_word,\n",
    "                \"Mid Words (up to 20)\": mid_words,\n",
    "                \"Min Word\": min_word\n",
    "            }\n",
    "        else:\n",
    "            results[r] = {\n",
    "                \"Max Word\": None,\n",
    "                \"Mid Words (up to 20)\": [],\n",
    "                \"Min Word\": None\n",
    "            }\n",
    "    \n",
    "    return results\n",
    "\n",
    "# Example usage\n",
    "unique_word_stats = get_unique_word_stats_per_rating(df1, text_col=\"review_text\", summary_col=\"Summary\", rating_col=\"Rating\", remove_stopwords=True)\n",
    "\n",
    "for rating, stats in unique_word_stats.items():\n",
    "    print(f\"\\nRating: {rating}\")\n",
    "    print(\" Max Word:\", stats[\"Max Word\"])\n",
    "    print(\" Mid Words (up to 20):\", stats[\"Mid Words (up to 20)\"])\n",
    "    print(\" Min Word:\", stats[\"Min Word\"])\n"
   ]
  },
  {
   "cell_type": "code",
   "execution_count": null,
   "id": "e7f91b92-0189-4cd9-837e-a90913fa368c",
   "metadata": {},
   "outputs": [],
   "source": []
  }
 ],
 "metadata": {
  "kernelspec": {
   "display_name": "Python [conda env:base] *",
   "language": "python",
   "name": "conda-base-py"
  },
  "language_info": {
   "codemirror_mode": {
    "name": "ipython",
    "version": 3
   },
   "file_extension": ".py",
   "mimetype": "text/x-python",
   "name": "python",
   "nbconvert_exporter": "python",
   "pygments_lexer": "ipython3",
   "version": "3.12.7"
  }
 },
 "nbformat": 4,
 "nbformat_minor": 5
}
