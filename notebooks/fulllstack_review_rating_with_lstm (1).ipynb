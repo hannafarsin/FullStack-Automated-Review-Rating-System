{
 "cells": [
  {
   "cell_type": "markdown",
   "metadata": {
    "id": "PIW-xJ2vqCXq"
   },
   "source": [
    "## Load Required Libraries"
   ]
  },
  {
   "cell_type": "code",
   "execution_count": 68,
   "metadata": {
    "id": "A4PmJhNEov2Q"
   },
   "outputs": [],
   "source": [
    "#  Data manipulation & visualization\n",
    "import pandas as pd\n",
    "import matplotlib.pyplot as plt\n",
    "import seaborn as sns\n",
    "\n",
    "from sklearn.model_selection import train_test_split\n",
    "\n",
    "#  NLP libraries: spaCy\n",
    "import spacy\n",
    "nlp = spacy.load(\"en_core_web_sm\", disable=[\"parser\", \"ner\"])\n",
    "\n",
    "sns.set()"
   ]
  },
  {
   "cell_type": "markdown",
   "metadata": {
    "id": "oCqa6ORtqPwB"
   },
   "source": [
    "#### Downloading the spacy model for text preprocessing"
   ]
  },
  {
   "cell_type": "code",
   "execution_count": 69,
   "metadata": {
    "colab": {
     "base_uri": "https://localhost:8080/"
    },
    "id": "gEjYvI0vvbiO",
    "outputId": "cf0c3a46-0fe7-4960-bd8e-037d3626918b"
   },
   "outputs": [
    {
     "name": "stdout",
     "output_type": "stream",
     "text": [
      "Collecting en-core-web-sm==3.8.0\n",
      "  Downloading https://github.com/explosion/spacy-models/releases/download/en_core_web_sm-3.8.0/en_core_web_sm-3.8.0-py3-none-any.whl (12.8 MB)\n",
      "\u001b[2K     \u001b[90m━━━━━━━━━━━━━━━━━━━━━━━━━━━━━━━━━━━━━━━━\u001b[0m \u001b[32m12.8/12.8 MB\u001b[0m \u001b[31m81.8 MB/s\u001b[0m eta \u001b[36m0:00:00\u001b[0m\n",
      "\u001b[?25h\u001b[38;5;2m✔ Download and installation successful\u001b[0m\n",
      "You can now load the package via spacy.load('en_core_web_sm')\n",
      "\u001b[38;5;3m⚠ Restart to reload dependencies\u001b[0m\n",
      "If you are in a Jupyter or Colab notebook, you may need to restart Python in\n",
      "order to load all the package's dependencies. You can do this by selecting the\n",
      "'Restart kernel' or 'Restart runtime' option.\n"
     ]
    }
   ],
   "source": [
    "!python -m spacy download en_core_web_sm"
   ]
  },
  {
   "cell_type": "markdown",
   "metadata": {
    "id": "EgOJNcZAqdr2"
   },
   "source": [
    "#### Import Google Drive"
   ]
  },
  {
   "cell_type": "code",
   "execution_count": 70,
   "metadata": {
    "colab": {
     "base_uri": "https://localhost:8080/"
    },
    "id": "n3ljdjKGvdbA",
    "outputId": "d1d3079c-0dc4-4c6f-cac6-f7b9787d5bf7"
   },
   "outputs": [
    {
     "name": "stdout",
     "output_type": "stream",
     "text": [
      "Drive already mounted at /content/drive; to attempt to forcibly remount, call drive.mount(\"/content/drive\", force_remount=True).\n"
     ]
    }
   ],
   "source": [
    "from google.colab import drive\n",
    "drive.mount('/content/drive')"
   ]
  },
  {
   "cell_type": "markdown",
   "metadata": {
    "id": "kxXCE45gqjHa"
   },
   "source": [
    "### Load the dataset"
   ]
  },
  {
   "cell_type": "code",
   "execution_count": 71,
   "metadata": {
    "colab": {
     "base_uri": "https://localhost:8080/",
     "height": 424
    },
    "id": "3h0hegwMvjBt",
    "outputId": "31b25adb-a758-4e88-f9fe-d99444b1f193"
   },
   "outputs": [
    {
     "data": {
      "application/vnd.google.colaboratory.intrinsic+json": {
       "type": "dataframe",
       "variable_name": "df"
      },
      "text/html": [
       "\n",
       "  <div id=\"df-23d191be-7ec7-4a88-9281-d2621bd53eb2\" class=\"colab-df-container\">\n",
       "    <div>\n",
       "<style scoped>\n",
       "    .dataframe tbody tr th:only-of-type {\n",
       "        vertical-align: middle;\n",
       "    }\n",
       "\n",
       "    .dataframe tbody tr th {\n",
       "        vertical-align: top;\n",
       "    }\n",
       "\n",
       "    .dataframe thead th {\n",
       "        text-align: right;\n",
       "    }\n",
       "</style>\n",
       "<table border=\"1\" class=\"dataframe\">\n",
       "  <thead>\n",
       "    <tr style=\"text-align: right;\">\n",
       "      <th></th>\n",
       "      <th>Unnamed: 0</th>\n",
       "      <th>review_text</th>\n",
       "      <th>Rating</th>\n",
       "      <th>Summary</th>\n",
       "      <th>review_length</th>\n",
       "    </tr>\n",
       "  </thead>\n",
       "  <tbody>\n",
       "    <tr>\n",
       "      <th>0</th>\n",
       "      <td>0</td>\n",
       "      <td>this is a very nice smooth mellow blend the va...</td>\n",
       "      <td>4</td>\n",
       "      <td>Smooth creamy taste</td>\n",
       "      <td>16</td>\n",
       "    </tr>\n",
       "    <tr>\n",
       "      <th>1</th>\n",
       "      <td>1</td>\n",
       "      <td>there is a reason that they call this talking ...</td>\n",
       "      <td>4</td>\n",
       "      <td>Super sparkly sparkling water.</td>\n",
       "      <td>88</td>\n",
       "    </tr>\n",
       "    <tr>\n",
       "      <th>2</th>\n",
       "      <td>2</td>\n",
       "      <td>dont know how they taste as they were a gift f...</td>\n",
       "      <td>4</td>\n",
       "      <td>Yummy chocolates delivered on time</td>\n",
       "      <td>43</td>\n",
       "    </tr>\n",
       "    <tr>\n",
       "      <th>3</th>\n",
       "      <td>3</td>\n",
       "      <td>good lemon ginger tea i like mine slightly swe...</td>\n",
       "      <td>4</td>\n",
       "      <td>lemon and ginger</td>\n",
       "      <td>48</td>\n",
       "    </tr>\n",
       "    <tr>\n",
       "      <th>4</th>\n",
       "      <td>4</td>\n",
       "      <td>i have been using international delight french...</td>\n",
       "      <td>4</td>\n",
       "      <td>Delightful!</td>\n",
       "      <td>72</td>\n",
       "    </tr>\n",
       "    <tr>\n",
       "      <th>...</th>\n",
       "      <td>...</td>\n",
       "      <td>...</td>\n",
       "      <td>...</td>\n",
       "      <td>...</td>\n",
       "      <td>...</td>\n",
       "    </tr>\n",
       "    <tr>\n",
       "      <th>125913</th>\n",
       "      <td>125913</td>\n",
       "      <td>i love getting this kind of stuff delivered so...</td>\n",
       "      <td>5</td>\n",
       "      <td>Nice to have delivered!</td>\n",
       "      <td>67</td>\n",
       "    </tr>\n",
       "    <tr>\n",
       "      <th>125914</th>\n",
       "      <td>125914</td>\n",
       "      <td>for those that dont know what this stuff is it...</td>\n",
       "      <td>5</td>\n",
       "      <td>Sprinkle Sandwiches a Dutch Classic- Delicious!</td>\n",
       "      <td>58</td>\n",
       "    </tr>\n",
       "    <tr>\n",
       "      <th>125915</th>\n",
       "      <td>125915</td>\n",
       "      <td>the title and description are not the same if ...</td>\n",
       "      <td>1</td>\n",
       "      <td>WRONG PRODUCT</td>\n",
       "      <td>24</td>\n",
       "    </tr>\n",
       "    <tr>\n",
       "      <th>125916</th>\n",
       "      <td>125916</td>\n",
       "      <td>pros slightly better nutrient content than oth...</td>\n",
       "      <td>2</td>\n",
       "      <td>Very salty, bad flavor balance</td>\n",
       "      <td>52</td>\n",
       "    </tr>\n",
       "    <tr>\n",
       "      <th>125917</th>\n",
       "      <td>125917</td>\n",
       "      <td>not the strongest ginger flavor but wellpackag...</td>\n",
       "      <td>5</td>\n",
       "      <td>mild but well made</td>\n",
       "      <td>24</td>\n",
       "    </tr>\n",
       "  </tbody>\n",
       "</table>\n",
       "<p>125918 rows × 5 columns</p>\n",
       "</div>\n",
       "    <div class=\"colab-df-buttons\">\n",
       "\n",
       "  <div class=\"colab-df-container\">\n",
       "    <button class=\"colab-df-convert\" onclick=\"convertToInteractive('df-23d191be-7ec7-4a88-9281-d2621bd53eb2')\"\n",
       "            title=\"Convert this dataframe to an interactive table.\"\n",
       "            style=\"display:none;\">\n",
       "\n",
       "  <svg xmlns=\"http://www.w3.org/2000/svg\" height=\"24px\" viewBox=\"0 -960 960 960\">\n",
       "    <path d=\"M120-120v-720h720v720H120Zm60-500h600v-160H180v160Zm220 220h160v-160H400v160Zm0 220h160v-160H400v160ZM180-400h160v-160H180v160Zm440 0h160v-160H620v160ZM180-180h160v-160H180v160Zm440 0h160v-160H620v160Z\"/>\n",
       "  </svg>\n",
       "    </button>\n",
       "\n",
       "  <style>\n",
       "    .colab-df-container {\n",
       "      display:flex;\n",
       "      gap: 12px;\n",
       "    }\n",
       "\n",
       "    .colab-df-convert {\n",
       "      background-color: #E8F0FE;\n",
       "      border: none;\n",
       "      border-radius: 50%;\n",
       "      cursor: pointer;\n",
       "      display: none;\n",
       "      fill: #1967D2;\n",
       "      height: 32px;\n",
       "      padding: 0 0 0 0;\n",
       "      width: 32px;\n",
       "    }\n",
       "\n",
       "    .colab-df-convert:hover {\n",
       "      background-color: #E2EBFA;\n",
       "      box-shadow: 0px 1px 2px rgba(60, 64, 67, 0.3), 0px 1px 3px 1px rgba(60, 64, 67, 0.15);\n",
       "      fill: #174EA6;\n",
       "    }\n",
       "\n",
       "    .colab-df-buttons div {\n",
       "      margin-bottom: 4px;\n",
       "    }\n",
       "\n",
       "    [theme=dark] .colab-df-convert {\n",
       "      background-color: #3B4455;\n",
       "      fill: #D2E3FC;\n",
       "    }\n",
       "\n",
       "    [theme=dark] .colab-df-convert:hover {\n",
       "      background-color: #434B5C;\n",
       "      box-shadow: 0px 1px 3px 1px rgba(0, 0, 0, 0.15);\n",
       "      filter: drop-shadow(0px 1px 2px rgba(0, 0, 0, 0.3));\n",
       "      fill: #FFFFFF;\n",
       "    }\n",
       "  </style>\n",
       "\n",
       "    <script>\n",
       "      const buttonEl =\n",
       "        document.querySelector('#df-23d191be-7ec7-4a88-9281-d2621bd53eb2 button.colab-df-convert');\n",
       "      buttonEl.style.display =\n",
       "        google.colab.kernel.accessAllowed ? 'block' : 'none';\n",
       "\n",
       "      async function convertToInteractive(key) {\n",
       "        const element = document.querySelector('#df-23d191be-7ec7-4a88-9281-d2621bd53eb2');\n",
       "        const dataTable =\n",
       "          await google.colab.kernel.invokeFunction('convertToInteractive',\n",
       "                                                    [key], {});\n",
       "        if (!dataTable) return;\n",
       "\n",
       "        const docLinkHtml = 'Like what you see? Visit the ' +\n",
       "          '<a target=\"_blank\" href=https://colab.research.google.com/notebooks/data_table.ipynb>data table notebook</a>'\n",
       "          + ' to learn more about interactive tables.';\n",
       "        element.innerHTML = '';\n",
       "        dataTable['output_type'] = 'display_data';\n",
       "        await google.colab.output.renderOutput(dataTable, element);\n",
       "        const docLink = document.createElement('div');\n",
       "        docLink.innerHTML = docLinkHtml;\n",
       "        element.appendChild(docLink);\n",
       "      }\n",
       "    </script>\n",
       "  </div>\n",
       "\n",
       "\n",
       "    <div id=\"df-3669bb47-8b4d-4db6-b6ae-479efd54a1bf\">\n",
       "      <button class=\"colab-df-quickchart\" onclick=\"quickchart('df-3669bb47-8b4d-4db6-b6ae-479efd54a1bf')\"\n",
       "                title=\"Suggest charts\"\n",
       "                style=\"display:none;\">\n",
       "\n",
       "<svg xmlns=\"http://www.w3.org/2000/svg\" height=\"24px\"viewBox=\"0 0 24 24\"\n",
       "     width=\"24px\">\n",
       "    <g>\n",
       "        <path d=\"M19 3H5c-1.1 0-2 .9-2 2v14c0 1.1.9 2 2 2h14c1.1 0 2-.9 2-2V5c0-1.1-.9-2-2-2zM9 17H7v-7h2v7zm4 0h-2V7h2v10zm4 0h-2v-4h2v4z\"/>\n",
       "    </g>\n",
       "</svg>\n",
       "      </button>\n",
       "\n",
       "<style>\n",
       "  .colab-df-quickchart {\n",
       "      --bg-color: #E8F0FE;\n",
       "      --fill-color: #1967D2;\n",
       "      --hover-bg-color: #E2EBFA;\n",
       "      --hover-fill-color: #174EA6;\n",
       "      --disabled-fill-color: #AAA;\n",
       "      --disabled-bg-color: #DDD;\n",
       "  }\n",
       "\n",
       "  [theme=dark] .colab-df-quickchart {\n",
       "      --bg-color: #3B4455;\n",
       "      --fill-color: #D2E3FC;\n",
       "      --hover-bg-color: #434B5C;\n",
       "      --hover-fill-color: #FFFFFF;\n",
       "      --disabled-bg-color: #3B4455;\n",
       "      --disabled-fill-color: #666;\n",
       "  }\n",
       "\n",
       "  .colab-df-quickchart {\n",
       "    background-color: var(--bg-color);\n",
       "    border: none;\n",
       "    border-radius: 50%;\n",
       "    cursor: pointer;\n",
       "    display: none;\n",
       "    fill: var(--fill-color);\n",
       "    height: 32px;\n",
       "    padding: 0;\n",
       "    width: 32px;\n",
       "  }\n",
       "\n",
       "  .colab-df-quickchart:hover {\n",
       "    background-color: var(--hover-bg-color);\n",
       "    box-shadow: 0 1px 2px rgba(60, 64, 67, 0.3), 0 1px 3px 1px rgba(60, 64, 67, 0.15);\n",
       "    fill: var(--button-hover-fill-color);\n",
       "  }\n",
       "\n",
       "  .colab-df-quickchart-complete:disabled,\n",
       "  .colab-df-quickchart-complete:disabled:hover {\n",
       "    background-color: var(--disabled-bg-color);\n",
       "    fill: var(--disabled-fill-color);\n",
       "    box-shadow: none;\n",
       "  }\n",
       "\n",
       "  .colab-df-spinner {\n",
       "    border: 2px solid var(--fill-color);\n",
       "    border-color: transparent;\n",
       "    border-bottom-color: var(--fill-color);\n",
       "    animation:\n",
       "      spin 1s steps(1) infinite;\n",
       "  }\n",
       "\n",
       "  @keyframes spin {\n",
       "    0% {\n",
       "      border-color: transparent;\n",
       "      border-bottom-color: var(--fill-color);\n",
       "      border-left-color: var(--fill-color);\n",
       "    }\n",
       "    20% {\n",
       "      border-color: transparent;\n",
       "      border-left-color: var(--fill-color);\n",
       "      border-top-color: var(--fill-color);\n",
       "    }\n",
       "    30% {\n",
       "      border-color: transparent;\n",
       "      border-left-color: var(--fill-color);\n",
       "      border-top-color: var(--fill-color);\n",
       "      border-right-color: var(--fill-color);\n",
       "    }\n",
       "    40% {\n",
       "      border-color: transparent;\n",
       "      border-right-color: var(--fill-color);\n",
       "      border-top-color: var(--fill-color);\n",
       "    }\n",
       "    60% {\n",
       "      border-color: transparent;\n",
       "      border-right-color: var(--fill-color);\n",
       "    }\n",
       "    80% {\n",
       "      border-color: transparent;\n",
       "      border-right-color: var(--fill-color);\n",
       "      border-bottom-color: var(--fill-color);\n",
       "    }\n",
       "    90% {\n",
       "      border-color: transparent;\n",
       "      border-bottom-color: var(--fill-color);\n",
       "    }\n",
       "  }\n",
       "</style>\n",
       "\n",
       "      <script>\n",
       "        async function quickchart(key) {\n",
       "          const quickchartButtonEl =\n",
       "            document.querySelector('#' + key + ' button');\n",
       "          quickchartButtonEl.disabled = true;  // To prevent multiple clicks.\n",
       "          quickchartButtonEl.classList.add('colab-df-spinner');\n",
       "          try {\n",
       "            const charts = await google.colab.kernel.invokeFunction(\n",
       "                'suggestCharts', [key], {});\n",
       "          } catch (error) {\n",
       "            console.error('Error during call to suggestCharts:', error);\n",
       "          }\n",
       "          quickchartButtonEl.classList.remove('colab-df-spinner');\n",
       "          quickchartButtonEl.classList.add('colab-df-quickchart-complete');\n",
       "        }\n",
       "        (() => {\n",
       "          let quickchartButtonEl =\n",
       "            document.querySelector('#df-3669bb47-8b4d-4db6-b6ae-479efd54a1bf button');\n",
       "          quickchartButtonEl.style.display =\n",
       "            google.colab.kernel.accessAllowed ? 'block' : 'none';\n",
       "        })();\n",
       "      </script>\n",
       "    </div>\n",
       "\n",
       "  <div id=\"id_e056340c-cf3f-4814-8bce-25c2ae8a5e87\">\n",
       "    <style>\n",
       "      .colab-df-generate {\n",
       "        background-color: #E8F0FE;\n",
       "        border: none;\n",
       "        border-radius: 50%;\n",
       "        cursor: pointer;\n",
       "        display: none;\n",
       "        fill: #1967D2;\n",
       "        height: 32px;\n",
       "        padding: 0 0 0 0;\n",
       "        width: 32px;\n",
       "      }\n",
       "\n",
       "      .colab-df-generate:hover {\n",
       "        background-color: #E2EBFA;\n",
       "        box-shadow: 0px 1px 2px rgba(60, 64, 67, 0.3), 0px 1px 3px 1px rgba(60, 64, 67, 0.15);\n",
       "        fill: #174EA6;\n",
       "      }\n",
       "\n",
       "      [theme=dark] .colab-df-generate {\n",
       "        background-color: #3B4455;\n",
       "        fill: #D2E3FC;\n",
       "      }\n",
       "\n",
       "      [theme=dark] .colab-df-generate:hover {\n",
       "        background-color: #434B5C;\n",
       "        box-shadow: 0px 1px 3px 1px rgba(0, 0, 0, 0.15);\n",
       "        filter: drop-shadow(0px 1px 2px rgba(0, 0, 0, 0.3));\n",
       "        fill: #FFFFFF;\n",
       "      }\n",
       "    </style>\n",
       "    <button class=\"colab-df-generate\" onclick=\"generateWithVariable('df')\"\n",
       "            title=\"Generate code using this dataframe.\"\n",
       "            style=\"display:none;\">\n",
       "\n",
       "  <svg xmlns=\"http://www.w3.org/2000/svg\" height=\"24px\"viewBox=\"0 0 24 24\"\n",
       "       width=\"24px\">\n",
       "    <path d=\"M7,19H8.4L18.45,9,17,7.55,7,17.6ZM5,21V16.75L18.45,3.32a2,2,0,0,1,2.83,0l1.4,1.43a1.91,1.91,0,0,1,.58,1.4,1.91,1.91,0,0,1-.58,1.4L9.25,21ZM18.45,9,17,7.55Zm-12,3A5.31,5.31,0,0,0,4.9,8.1,5.31,5.31,0,0,0,1,6.5,5.31,5.31,0,0,0,4.9,4.9,5.31,5.31,0,0,0,6.5,1,5.31,5.31,0,0,0,8.1,4.9,5.31,5.31,0,0,0,12,6.5,5.46,5.46,0,0,0,6.5,12Z\"/>\n",
       "  </svg>\n",
       "    </button>\n",
       "    <script>\n",
       "      (() => {\n",
       "      const buttonEl =\n",
       "        document.querySelector('#id_e056340c-cf3f-4814-8bce-25c2ae8a5e87 button.colab-df-generate');\n",
       "      buttonEl.style.display =\n",
       "        google.colab.kernel.accessAllowed ? 'block' : 'none';\n",
       "\n",
       "      buttonEl.onclick = () => {\n",
       "        google.colab.notebook.generateWithVariable('df');\n",
       "      }\n",
       "      })();\n",
       "    </script>\n",
       "  </div>\n",
       "\n",
       "    </div>\n",
       "  </div>\n"
      ],
      "text/plain": [
       "        Unnamed: 0                                        review_text  Rating  \\\n",
       "0                0  this is a very nice smooth mellow blend the va...       4   \n",
       "1                1  there is a reason that they call this talking ...       4   \n",
       "2                2  dont know how they taste as they were a gift f...       4   \n",
       "3                3  good lemon ginger tea i like mine slightly swe...       4   \n",
       "4                4  i have been using international delight french...       4   \n",
       "...            ...                                                ...     ...   \n",
       "125913      125913  i love getting this kind of stuff delivered so...       5   \n",
       "125914      125914  for those that dont know what this stuff is it...       5   \n",
       "125915      125915  the title and description are not the same if ...       1   \n",
       "125916      125916  pros slightly better nutrient content than oth...       2   \n",
       "125917      125917  not the strongest ginger flavor but wellpackag...       5   \n",
       "\n",
       "                                                Summary  review_length  \n",
       "0                                   Smooth creamy taste             16  \n",
       "1                        Super sparkly sparkling water.             88  \n",
       "2                    Yummy chocolates delivered on time             43  \n",
       "3                                      lemon and ginger             48  \n",
       "4                                           Delightful!             72  \n",
       "...                                                 ...            ...  \n",
       "125913                          Nice to have delivered!             67  \n",
       "125914  Sprinkle Sandwiches a Dutch Classic- Delicious!             58  \n",
       "125915                                    WRONG PRODUCT             24  \n",
       "125916                   Very salty, bad flavor balance             52  \n",
       "125917                               mild but well made             24  \n",
       "\n",
       "[125918 rows x 5 columns]"
      ]
     },
     "execution_count": 71,
     "metadata": {},
     "output_type": "execute_result"
    }
   ],
   "source": [
    "df =pd.read_csv('/content/drive/My Drive/fullstack-imbalanced-dataset.csv')\n",
    "df"
   ]
  },
  {
   "cell_type": "markdown",
   "metadata": {
    "id": "uTsIN3orqpnT"
   },
   "source": [
    "#### Exploratory Data Analysis"
   ]
  },
  {
   "cell_type": "code",
   "execution_count": 72,
   "metadata": {
    "colab": {
     "base_uri": "https://localhost:8080/"
    },
    "id": "WQJgYrnxwHcl",
    "outputId": "b94d3fbd-72b3-4b2d-844f-7e28dec58b31"
   },
   "outputs": [
    {
     "data": {
      "text/plain": [
       "(125918, 5)"
      ]
     },
     "execution_count": 72,
     "metadata": {},
     "output_type": "execute_result"
    }
   ],
   "source": [
    "#shape of the dataset\n",
    "df.shape"
   ]
  },
  {
   "cell_type": "code",
   "execution_count": 73,
   "metadata": {
    "colab": {
     "base_uri": "https://localhost:8080/"
    },
    "id": "cm5EwJmBwU4g",
    "outputId": "32870960-3b79-4b52-8208-9fd348e7beed"
   },
   "outputs": [
    {
     "name": "stdout",
     "output_type": "stream",
     "text": [
      "\n",
      "⭐ Rating 1\n",
      "\n",
      "- i ended up throwing this stuff out it tasted that bad imagine blending grass in a blender until it is liquid and drinking it that is what this stuff tastes like\n",
      "\n",
      "\n",
      "- with the increased popularity of argon and coconut oils being used by women of all ethnicities i mistakenly thought this product would be appropriate for my hair i use argon oil now and it really helps to calm frizz and flyaways for my colored and overly dry hairi have thick coarse wavy hair that is color treated i have used hot oils and leave in oils for years without having any problems but this product seems to be intended mostly for ethnic hair no where on the product does it say this but the advertisement has an ethnic model and other products in the line are clearly not intended for caucasian hairsince there are no directions on this product i would imagine i would use it the same way i use my argon oil but that results is limp greasy looking hair even when using the product sparingly and the ingredients certainly leave a lot to be desiredperhaps a woman with ethnic hair would know immediately that this product was intended for her but with very little information provided in the description and even less on the packaging i think a lot of women are tricked into thinking this is an appropriate product for their hair type and it really is not i think this product needs an overhaul with more clarification in its advertising description and packaging\n",
      "\n",
      "\n",
      "- the title and description are not the same if you order this you will receive the can in the description not the wildlands can\n",
      "\n",
      "\n",
      "⭐ Rating 2\n",
      "\n",
      "- im a big fandrinker of green tea and a big fandrinker of earl grey but this tea is a little too bergamoty for my taste it may be because plain green tea naturally has a weaker taste than black tea and the bergamot is therefore more evidentafter a couple cups of this i decided these two tastes are best on their own\n",
      "\n",
      "\n",
      "- i really wanted to like this i got it as a topper for greek yogurt but there are sooo many pumpkin seeds its just weird im actually still working on the order i got like 45 months ago just disappointing\n",
      "\n",
      "\n",
      "- pros slightly better nutrient content than other wheat thins varietiescons extraordinary amounts of salt there are snowdrifts at the bottom of each bag very brittle you can expect many crackers to be in fragments after shipping simply tastes more of salt than of anything else compares poorly to other wheat thins varieties\n",
      "\n",
      "\n",
      "⭐ Rating 3\n",
      "\n",
      "- it tastes just like water i have no way of measuring the ph so i guess i have to trust what the bottle says i didnt see any difference while drinking it it is a bit pricey for just water unless you have a specific need for a high ph in your drinks then you can give it a try otherwise dont bother\n",
      "\n",
      "\n",
      "- these sugarfree caramels are indeed delicious and deserve 5 stars for taste but a price hike at amazon from 5342 to 8700 in a little over 2 months is more than i can stomach ill buy them somewhere else\n",
      "\n",
      "\n",
      "- this is a goodquality smoked paprika and will work well in just about any dish you need it for but the container is quite small and contains only 26 oz for less than a dollar more 64 to be exact you can get mccormicks version which tastes virtually the same and you get 85 oz which is three times as much in addition like the chiquilin the mccormick paprika is made from spanish red peppers that are smoked over wood planks finally it is available with prime shipping just as the chiquilin is\n",
      "\n",
      "\n",
      "⭐ Rating 4\n",
      "\n",
      "- great price does the trick but looses flavor super duper fast and gets really hard to chew my 4 year old son loves getting gumballs out of our little dispenser hes to young to really know any better though about gum loosing flavor and getting hard too fast lol\n",
      "\n",
      "\n",
      "- love the taste of annies organic mac cheese plus its a great source of fiber and is certified organic making it a better alternative to kraft and conventional brands serve it up with some steamed broccoli or a toss salad and youve got a nutrish and delish meal in a jiffy\n",
      "\n",
      "\n",
      "- although ive only been able to try three of caribous k cup blends mahogany as well as and ive found that caribou consistently produces the highest quality k cups they are head and shoulders above their competitors like green mountain and van houttei should mention that caribous daybreak blend is far and away my favorite k cup flavor of the 20 or so ive been able to sample so far but i enjoy a flavorful medium roast my boyfriend on the other hand prefers an extra bold dark roast after our favorable experience with the caribou brand before we picked up a box of this coffee and hoped that it would be a great choice for a dark blendlet me just say that mahogany is full of smokey delicious flavor its quite strong and dark but there is no rancid bitterness or acidity that accompanies a lot of the dark roasts this coffee packs a powerful punch although that isnt normally my thing i can enjoy a cup of this with milk and a bit of sweetener my boyfriend adores it though and it has become a staple blend for him i will still drink this on occasion but its a bit too potent for mei think this is the best dark roast ive had the chance to try\n",
      "\n",
      "\n",
      "⭐ Rating 5\n",
      "\n",
      "- i love getting this kind of stuff delivered so that i dont have to lug it around the store i use an entire box one of the three in the cat pan i have a clever cat so it lasts a couple of weeks there is never an odor from the one cat that uses it right the other one just poops on top and leaves it\n",
      "\n",
      "\n",
      "- for those that dont know what this stuff is it is for a sandwich with butter but also can be used for ice cream sprinkles on cakes and cookies anything that you feel like putting pure dark chocolate sprinkles on even it is a handful to pop in your mouth its the sprinkle of choice yum yum yum\n",
      "\n",
      "\n",
      "- not the strongest ginger flavor but wellpackaged organic and containing only ginger so its what ill keep buying for my nightly cup of tea\n",
      "\n"
     ]
    }
   ],
   "source": [
    "#display 3 full sample reviews per rating\n",
    "for rating in sorted(df['Rating'].unique()):\n",
    "    print(f\"\\n⭐ Rating {rating}\")\n",
    "    reviews = df[df['Rating'] == rating].tail(3)\n",
    "    for _, row in reviews.iterrows():\n",
    "        print(f\"\\n- {row['review_text']}\\n\")"
   ]
  },
  {
   "cell_type": "code",
   "execution_count": 74,
   "metadata": {
    "id": "vFTrJtlCwRqc"
   },
   "outputs": [],
   "source": [
    "df['word_count'] = df['review_text'].apply(lambda x: len(str(x).split()))"
   ]
  },
  {
   "cell_type": "code",
   "execution_count": 75,
   "metadata": {
    "colab": {
     "base_uri": "https://localhost:8080/"
    },
    "id": "lygM_Nenwfnk",
    "outputId": "ab42a8f2-b07a-4371-aa0f-a77534067072"
   },
   "outputs": [
    {
     "name": "stdout",
     "output_type": "stream",
     "text": [
      "          count       mean        std   min   25%   50%    75%    max\n",
      "Rating                                                               \n",
      "1       12592.0  78.221410  62.892217  10.0  36.0  60.0   98.0  496.0\n",
      "2       20719.0  85.786283  67.254613   6.0  39.0  66.0  109.0  499.0\n",
      "3       29648.0  91.219172  73.110825   5.0  40.0  69.0  118.0  500.0\n",
      "4       37775.0  86.504911  71.642348   5.0  37.0  64.0  111.0  499.0\n",
      "5       25184.0  70.599825  59.891781   5.0  31.0  52.0   87.0  496.0\n"
     ]
    }
   ],
   "source": [
    "#display the statistics of the word count\n",
    "min_word_counts = df.groupby('Rating')['word_count'].describe()\n",
    "print(min_word_counts)"
   ]
  },
  {
   "cell_type": "markdown",
   "metadata": {
    "id": "fAnCanoKq0EP"
   },
   "source": [
    "### Train -Test -Split"
   ]
  },
  {
   "cell_type": "code",
   "execution_count": 76,
   "metadata": {
    "id": "u-6Y4C42nrB0"
   },
   "outputs": [],
   "source": [
    "df['combined_text'] = df['Summary'].astype(str) + \" \" + df['review_text'].astype(str)\n",
    "X = df['combined_text']\n",
    "y = df['Rating']"
   ]
  },
  {
   "cell_type": "code",
   "execution_count": 77,
   "metadata": {
    "id": "atSmLmyTwjOo"
   },
   "outputs": [],
   "source": [
    "#  Split training and testing data\n",
    "X_train, X_test, y_train, y_test = train_test_split(df['review_text'],df['Rating'], test_size=0.2, random_state=42,shuffle=True,stratify=df['Rating'] )"
   ]
  },
  {
   "cell_type": "code",
   "execution_count": 78,
   "metadata": {
    "colab": {
     "base_uri": "https://localhost:8080/"
    },
    "id": "XhKxqKayw6Kv",
    "outputId": "a06aa9b2-f170-4f88-cc88-3327b17ab30e"
   },
   "outputs": [
    {
     "name": "stdout",
     "output_type": "stream",
     "text": [
      "Train Rating Distribution:\n",
      " Rating\n",
      "4    0.299998\n",
      "3    0.235452\n",
      "5    0.200002\n",
      "2    0.164542\n",
      "1    0.100006\n",
      "Name: proportion, dtype: float64\n",
      "\n",
      "Test Rating Distribution:\n",
      " Rating\n",
      "4    0.299992\n",
      "3    0.235467\n",
      "5    0.200008\n",
      "2    0.164549\n",
      "1    0.099984\n",
      "Name: proportion, dtype: float64\n"
     ]
    }
   ],
   "source": [
    "print(\"Train Rating Distribution:\\n\", y_train.value_counts(normalize=True))\n",
    "print(\"\\nTest Rating Distribution:\\n\", y_test.value_counts(normalize=True))"
   ]
  },
  {
   "cell_type": "markdown",
   "metadata": {
    "id": "wLxUzdSpq5rm"
   },
   "source": [
    "### Stopword Removal and Lemmatization"
   ]
  },
  {
   "cell_type": "code",
   "execution_count": 79,
   "metadata": {
    "id": "Hkw_JqWpw9Ut"
   },
   "outputs": [],
   "source": [
    "# Words to keep (do NOT remove)\n",
    "words_to_keep = {\n",
    "    'not', 'no', 'never', 'none', 'nor', 'neither', \"n't\", \"n‘t\", \"n’t\",\n",
    "    'but', 'although', 'though', 'however', 'unless', 'whereas', 'yet', 'still',\n",
    "    'very', 'too', 'quite', 'rather', 'really', 'somewhat', 'much',\n",
    "    'i', 'we', 'you', 'my', 'our', 'me', 'us', 'your', 'yours',\n",
    "    'always','amount','almost','anyone','can','cannot','could','did','do','enough',\n",
    "    'except','should','may','might','some','most','more','mostly'\n",
    "}\n",
    "\n",
    "for w in words_to_keep:\n",
    "    if w in nlp.Defaults.stop_words:\n",
    "        nlp.Defaults.stop_words.remove(w)\n",
    "        nlp.vocab[w].is_stop = False\n",
    "\n",
    "\n",
    "def spacy_preprocess_pipe(texts):\n",
    "    processed = []\n",
    "    for doc in nlp.pipe(texts, batch_size=1000, disable=[\"ner\", \"parser\"]):  # disable unneeded parts\n",
    "        tokens = [\n",
    "            token.lemma_\n",
    "            for token in doc\n",
    "            if not token.is_stop and not token.is_space and token.is_alpha\n",
    "        ]\n",
    "        processed.append(\" \".join(tokens))\n",
    "    return processed"
   ]
  },
  {
   "cell_type": "code",
   "execution_count": 80,
   "metadata": {
    "colab": {
     "base_uri": "https://localhost:8080/"
    },
    "id": "1nQRii68xC6X",
    "outputId": "5e9324de-33c6-4a50-eaba-023b15c960a0"
   },
   "outputs": [
    {
     "name": "stdout",
     "output_type": "stream",
     "text": [
      "[\"'d\", \"'ll\", \"'m\", \"'re\", \"'s\", \"'ve\", 'a', 'about', 'above', 'across', 'after', 'afterwards', 'again', 'against', 'all', 'alone', 'along', 'already', 'also', 'am', 'among', 'amongst', 'an', 'and', 'another', 'any', 'anyhow', 'anything', 'anyway', 'anywhere', 'are', 'around', 'as', 'at', 'back', 'be', 'became', 'because', 'become', 'becomes', 'becoming', 'been', 'before', 'beforehand', 'behind', 'being', 'below', 'beside', 'besides', 'between', 'beyond', 'both', 'bottom', 'by', 'ca', 'call', 'does', 'doing', 'done', 'down', 'due', 'during', 'each', 'eight', 'either', 'eleven', 'else', 'elsewhere', 'empty', 'even', 'ever', 'every', 'everyone', 'everything', 'everywhere', 'few', 'fifteen', 'fifty', 'first', 'five', 'for', 'former', 'formerly', 'forty', 'four', 'from', 'front', 'full', 'further', 'get', 'give', 'go', 'had', 'has', 'have', 'he', 'hence', 'her', 'here', 'hereafter', 'hereby', 'herein', 'hereupon', 'hers', 'herself', 'him', 'himself', 'his', 'how', 'hundred', 'if', 'in', 'indeed', 'into', 'is', 'it', 'its', 'itself', 'just', 'keep', 'last', 'latter', 'latterly', 'least', 'less', 'made', 'make', 'many', 'meanwhile', 'mine', 'moreover', 'move', 'must', 'myself', 'name', 'namely', 'nevertheless', 'next', 'nine', 'nobody', 'noone', 'nothing', 'now', 'nowhere', 'of', 'off', 'often', 'on', 'once', 'one', 'only', 'onto', 'or', 'other', 'others', 'otherwise', 'ours', 'ourselves', 'out', 'over', 'own', 'part', 'per', 'perhaps', 'please', 'put', 're', 'regarding', 'same', 'say', 'see', 'seem', 'seemed', 'seeming', 'seems', 'serious', 'several', 'she', 'show', 'side', 'since', 'six', 'sixty', 'so', 'somehow', 'someone', 'something', 'sometime', 'sometimes', 'somewhere', 'such', 'take', 'ten', 'than', 'that', 'the', 'their', 'them', 'themselves', 'then', 'thence', 'there', 'thereafter', 'thereby', 'therefore', 'therein', 'thereupon', 'these', 'they', 'third', 'this', 'those', 'three', 'through', 'throughout', 'thru', 'thus', 'to', 'together', 'top', 'toward', 'towards', 'twelve', 'twenty', 'two', 'under', 'until', 'up', 'upon', 'used', 'using', 'various', 'via', 'was', 'well', 'were', 'what', 'whatever', 'when', 'whence', 'whenever', 'where', 'whereafter', 'whereby', 'wherein', 'whereupon', 'wherever', 'whether', 'which', 'while', 'whither', 'who', 'whoever', 'whole', 'whom', 'whose', 'why', 'will', 'with', 'within', 'without', 'would', 'yourself', 'yourselves', '‘d', '‘ll', '‘m', '‘re', '‘s', '‘ve', '’d', '’ll', '’m', '’re', '’s', '’ve']\n",
      "Number of spaCy stopwords: 276\n"
     ]
    }
   ],
   "source": [
    "#print the list of stopwords\n",
    "print(sorted(nlp.Defaults.stop_words))\n",
    "# Print total number of unique stopwords in spaCy's English model\n",
    "print(\"Number of spaCy stopwords:\", len(nlp.Defaults.stop_words))"
   ]
  },
  {
   "cell_type": "code",
   "execution_count": 81,
   "metadata": {
    "id": "kRng4l_BxHYI"
   },
   "outputs": [],
   "source": [
    "X_train = pd.Series(spacy_preprocess_pipe(X_train))\n",
    "X_test = pd.Series(spacy_preprocess_pipe(X_test))"
   ]
  },
  {
   "cell_type": "code",
   "execution_count": 82,
   "metadata": {
    "id": "883djeJcxLvr"
   },
   "outputs": [],
   "source": [
    "from tensorflow.keras.preprocessing.text import Tokenizer\n",
    "\n",
    "# Define tokenizer parameters\n",
    "vocab_size = 10000\n",
    "tokenizer = Tokenizer(num_words=vocab_size, oov_token=\"<OOV>\")\n",
    "\n",
    "# Fit tokenizer on training data\n",
    "tokenizer.fit_on_texts(X_train)\n",
    "\n",
    "# Convert text to sequences\n",
    "X_train_seq = tokenizer.texts_to_sequences(X_train)\n",
    "X_test_seq = tokenizer.texts_to_sequences(X_test)\n"
   ]
  },
  {
   "cell_type": "code",
   "execution_count": 83,
   "metadata": {
    "id": "hn2ABqE7xRF-"
   },
   "outputs": [],
   "source": [
    "from tensorflow.keras.preprocessing.sequence import pad_sequences\n",
    "\n",
    "max_len = 210\n",
    "\n",
    "X_train_pad = pad_sequences(X_train_seq, maxlen=max_len, padding='post', truncating='post')\n",
    "X_test_pad = pad_sequences(X_test_seq, maxlen=max_len, padding='post', truncating='post')"
   ]
  },
  {
   "cell_type": "code",
   "execution_count": 84,
   "metadata": {
    "id": "qeEoOZp_5nlg"
   },
   "outputs": [],
   "source": [
    "import pickle\n",
    "\n",
    "\n",
    "tokenizer_path = '/content/drive/MyDrive/tokenizer.pkl'\n",
    "maxlen_path = '/content/drive/MyDrive/max_len.pkl'\n",
    "\n",
    "# Save tokenizer\n",
    "with open(tokenizer_path, 'wb') as f:\n",
    "    pickle.dump(tokenizer, f)\n",
    "\n",
    "# Save max_len\n",
    "with open(maxlen_path, 'wb') as f:\n",
    "    pickle.dump(max_len, f)\n"
   ]
  },
  {
   "cell_type": "code",
   "execution_count": 85,
   "metadata": {
    "id": "f6JduaO5xVb1"
   },
   "outputs": [],
   "source": [
    "#  Fix the labels (make them start from 0)\n",
    "y_train = y_train - 1\n",
    "y_test = y_test - 1"
   ]
  },
  {
   "cell_type": "code",
   "execution_count": 86,
   "metadata": {
    "id": "RIVvuHWoxbum"
   },
   "outputs": [],
   "source": [
    "import numpy as np\n",
    "\n",
    "embedding_index = {}\n",
    "embedding_dim = 300  # FastText uses 300-dim vectors\n",
    "\n",
    "# Change path accordingly if it's in Drive\n",
    "with open(\"/content/drive/MyDrive/wiki.simple.vec\", encoding='utf-8') as f:\n",
    "    next(f)  # skip header line (e.g., \"111051 300\")\n",
    "    for line in f:\n",
    "        values = line.rstrip().split(' ')\n",
    "        word = values[0]\n",
    "        try:\n",
    "            vector = np.asarray(values[1:], dtype='float32')\n",
    "            if vector.shape[0] == embedding_dim:  # ensure it's valid\n",
    "                embedding_index[word] = vector\n",
    "        except ValueError:\n",
    "            continue  # skip malformed lines\n"
   ]
  },
  {
   "cell_type": "code",
   "execution_count": 87,
   "metadata": {
    "id": "Y-wqrnq_xoRn"
   },
   "outputs": [],
   "source": [
    "from tensorflow.keras.preprocessing.text import Tokenizer\n",
    "\n",
    "\n",
    "word_index = tokenizer.word_index\n",
    "vocab_size = len(word_index) + 1  # +1 for padding token\n",
    "\n",
    "embedding_matrix = np.zeros((vocab_size, embedding_dim))\n",
    "\n",
    "for word, i in word_index.items():\n",
    "    embedding_vector = embedding_index.get(word)\n",
    "    if embedding_vector is not None:\n",
    "        embedding_matrix[i] = embedding_vector\n",
    "\n",
    "\n"
   ]
  },
  {
   "cell_type": "code",
   "execution_count": 88,
   "metadata": {
    "colab": {
     "base_uri": "https://localhost:8080/",
     "height": 589
    },
    "id": "TdZzDc54xrvl",
    "outputId": "ddf64574-cbae-4c9b-9b67-be569ca9fb12"
   },
   "outputs": [
    {
     "name": "stderr",
     "output_type": "stream",
     "text": [
      "/usr/local/lib/python3.11/dist-packages/keras/src/layers/core/embedding.py:97: UserWarning: Argument `input_length` is deprecated. Just remove it.\n",
      "  warnings.warn(\n"
     ]
    },
    {
     "data": {
      "text/html": [
       "<pre style=\"white-space:pre;overflow-x:auto;line-height:normal;font-family:Menlo,'DejaVu Sans Mono',consolas,'Courier New',monospace\"><span style=\"font-weight: bold\">Model: \"sequential_2\"</span>\n",
       "</pre>\n"
      ],
      "text/plain": [
       "\u001b[1mModel: \"sequential_2\"\u001b[0m\n"
      ]
     },
     "metadata": {},
     "output_type": "display_data"
    },
    {
     "data": {
      "text/html": [
       "<pre style=\"white-space:pre;overflow-x:auto;line-height:normal;font-family:Menlo,'DejaVu Sans Mono',consolas,'Courier New',monospace\">┏━━━━━━━━━━━━━━━━━━━━━━━━━━━━━━━━━┳━━━━━━━━━━━━━━━━━━━━━━━━┳━━━━━━━━━━━━━━━┓\n",
       "┃<span style=\"font-weight: bold\"> Layer (type)                    </span>┃<span style=\"font-weight: bold\"> Output Shape           </span>┃<span style=\"font-weight: bold\">       Param # </span>┃\n",
       "┡━━━━━━━━━━━━━━━━━━━━━━━━━━━━━━━━━╇━━━━━━━━━━━━━━━━━━━━━━━━╇━━━━━━━━━━━━━━━┩\n",
       "│ embedding_2 (<span style=\"color: #0087ff; text-decoration-color: #0087ff\">Embedding</span>)         │ ?                      │    <span style=\"color: #00af00; text-decoration-color: #00af00\">34,039,800</span> │\n",
       "├─────────────────────────────────┼────────────────────────┼───────────────┤\n",
       "│ bidirectional_2 (<span style=\"color: #0087ff; text-decoration-color: #0087ff\">Bidirectional</span>) │ ?                      │   <span style=\"color: #00af00; text-decoration-color: #00af00\">0</span> (unbuilt) │\n",
       "├─────────────────────────────────┼────────────────────────┼───────────────┤\n",
       "│ dropout_2 (<span style=\"color: #0087ff; text-decoration-color: #0087ff\">Dropout</span>)             │ ?                      │             <span style=\"color: #00af00; text-decoration-color: #00af00\">0</span> │\n",
       "├─────────────────────────────────┼────────────────────────┼───────────────┤\n",
       "│ dense_4 (<span style=\"color: #0087ff; text-decoration-color: #0087ff\">Dense</span>)                 │ ?                      │   <span style=\"color: #00af00; text-decoration-color: #00af00\">0</span> (unbuilt) │\n",
       "├─────────────────────────────────┼────────────────────────┼───────────────┤\n",
       "│ dense_5 (<span style=\"color: #0087ff; text-decoration-color: #0087ff\">Dense</span>)                 │ ?                      │   <span style=\"color: #00af00; text-decoration-color: #00af00\">0</span> (unbuilt) │\n",
       "└─────────────────────────────────┴────────────────────────┴───────────────┘\n",
       "</pre>\n"
      ],
      "text/plain": [
       "┏━━━━━━━━━━━━━━━━━━━━━━━━━━━━━━━━━┳━━━━━━━━━━━━━━━━━━━━━━━━┳━━━━━━━━━━━━━━━┓\n",
       "┃\u001b[1m \u001b[0m\u001b[1mLayer (type)                   \u001b[0m\u001b[1m \u001b[0m┃\u001b[1m \u001b[0m\u001b[1mOutput Shape          \u001b[0m\u001b[1m \u001b[0m┃\u001b[1m \u001b[0m\u001b[1m      Param #\u001b[0m\u001b[1m \u001b[0m┃\n",
       "┡━━━━━━━━━━━━━━━━━━━━━━━━━━━━━━━━━╇━━━━━━━━━━━━━━━━━━━━━━━━╇━━━━━━━━━━━━━━━┩\n",
       "│ embedding_2 (\u001b[38;5;33mEmbedding\u001b[0m)         │ ?                      │    \u001b[38;5;34m34,039,800\u001b[0m │\n",
       "├─────────────────────────────────┼────────────────────────┼───────────────┤\n",
       "│ bidirectional_2 (\u001b[38;5;33mBidirectional\u001b[0m) │ ?                      │   \u001b[38;5;34m0\u001b[0m (unbuilt) │\n",
       "├─────────────────────────────────┼────────────────────────┼───────────────┤\n",
       "│ dropout_2 (\u001b[38;5;33mDropout\u001b[0m)             │ ?                      │             \u001b[38;5;34m0\u001b[0m │\n",
       "├─────────────────────────────────┼────────────────────────┼───────────────┤\n",
       "│ dense_4 (\u001b[38;5;33mDense\u001b[0m)                 │ ?                      │   \u001b[38;5;34m0\u001b[0m (unbuilt) │\n",
       "├─────────────────────────────────┼────────────────────────┼───────────────┤\n",
       "│ dense_5 (\u001b[38;5;33mDense\u001b[0m)                 │ ?                      │   \u001b[38;5;34m0\u001b[0m (unbuilt) │\n",
       "└─────────────────────────────────┴────────────────────────┴───────────────┘\n"
      ]
     },
     "metadata": {},
     "output_type": "display_data"
    },
    {
     "data": {
      "text/html": [
       "<pre style=\"white-space:pre;overflow-x:auto;line-height:normal;font-family:Menlo,'DejaVu Sans Mono',consolas,'Courier New',monospace\"><span style=\"font-weight: bold\"> Total params: </span><span style=\"color: #00af00; text-decoration-color: #00af00\">34,039,800</span> (129.85 MB)\n",
       "</pre>\n"
      ],
      "text/plain": [
       "\u001b[1m Total params: \u001b[0m\u001b[38;5;34m34,039,800\u001b[0m (129.85 MB)\n"
      ]
     },
     "metadata": {},
     "output_type": "display_data"
    },
    {
     "data": {
      "text/html": [
       "<pre style=\"white-space:pre;overflow-x:auto;line-height:normal;font-family:Menlo,'DejaVu Sans Mono',consolas,'Courier New',monospace\"><span style=\"font-weight: bold\"> Trainable params: </span><span style=\"color: #00af00; text-decoration-color: #00af00\">34,039,800</span> (129.85 MB)\n",
       "</pre>\n"
      ],
      "text/plain": [
       "\u001b[1m Trainable params: \u001b[0m\u001b[38;5;34m34,039,800\u001b[0m (129.85 MB)\n"
      ]
     },
     "metadata": {},
     "output_type": "display_data"
    },
    {
     "data": {
      "text/html": [
       "<pre style=\"white-space:pre;overflow-x:auto;line-height:normal;font-family:Menlo,'DejaVu Sans Mono',consolas,'Courier New',monospace\"><span style=\"font-weight: bold\"> Non-trainable params: </span><span style=\"color: #00af00; text-decoration-color: #00af00\">0</span> (0.00 B)\n",
       "</pre>\n"
      ],
      "text/plain": [
       "\u001b[1m Non-trainable params: \u001b[0m\u001b[38;5;34m0\u001b[0m (0.00 B)\n"
      ]
     },
     "metadata": {},
     "output_type": "display_data"
    },
    {
     "name": "stdout",
     "output_type": "stream",
     "text": [
      "Epoch 1/20\n",
      "\u001b[1m1574/1574\u001b[0m \u001b[32m━━━━━━━━━━━━━━━━━━━━\u001b[0m\u001b[37m\u001b[0m \u001b[1m81s\u001b[0m 50ms/step - accuracy: 0.3563 - loss: 1.3690 - val_accuracy: 0.4832 - val_loss: 1.1541\n",
      "Epoch 2/20\n",
      "\u001b[1m1574/1574\u001b[0m \u001b[32m━━━━━━━━━━━━━━━━━━━━\u001b[0m\u001b[37m\u001b[0m \u001b[1m81s\u001b[0m 49ms/step - accuracy: 0.5064 - loss: 1.0832 - val_accuracy: 0.4924 - val_loss: 1.1548\n",
      "Epoch 3/20\n",
      "\u001b[1m1574/1574\u001b[0m \u001b[32m━━━━━━━━━━━━━━━━━━━━\u001b[0m\u001b[37m\u001b[0m \u001b[1m83s\u001b[0m 50ms/step - accuracy: 0.5536 - loss: 0.9829 - val_accuracy: 0.4911 - val_loss: 1.1603\n",
      "Epoch 4/20\n",
      "\u001b[1m1574/1574\u001b[0m \u001b[32m━━━━━━━━━━━━━━━━━━━━\u001b[0m\u001b[37m\u001b[0m \u001b[1m82s\u001b[0m 50ms/step - accuracy: 0.5883 - loss: 0.8978 - val_accuracy: 0.5054 - val_loss: 1.1400\n",
      "Epoch 5/20\n",
      "\u001b[1m1574/1574\u001b[0m \u001b[32m━━━━━━━━━━━━━━━━━━━━\u001b[0m\u001b[37m\u001b[0m \u001b[1m82s\u001b[0m 50ms/step - accuracy: 0.6308 - loss: 0.8078 - val_accuracy: 0.4968 - val_loss: 1.2329\n",
      "Epoch 6/20\n",
      "\u001b[1m1574/1574\u001b[0m \u001b[32m━━━━━━━━━━━━━━━━━━━━\u001b[0m\u001b[37m\u001b[0m \u001b[1m82s\u001b[0m 50ms/step - accuracy: 0.6710 - loss: 0.7224 - val_accuracy: 0.4943 - val_loss: 1.3189\n",
      "Epoch 7/20\n",
      "\u001b[1m1574/1574\u001b[0m \u001b[32m━━━━━━━━━━━━━━━━━━━━\u001b[0m\u001b[37m\u001b[0m \u001b[1m78s\u001b[0m 50ms/step - accuracy: 0.7110 - loss: 0.6363 - val_accuracy: 0.4942 - val_loss: 1.4273\n"
     ]
    }
   ],
   "source": [
    "from tensorflow.keras.models import Sequential\n",
    "from tensorflow.keras.layers import Embedding, LSTM, Dense, Bidirectional, Dropout\n",
    "from tensorflow.keras.callbacks import EarlyStopping\n",
    "from sklearn.utils.class_weight import compute_class_weight\n",
    "\n",
    "\n",
    "model = Sequential()\n",
    "\n",
    "\n",
    "class_weights = compute_class_weight(class_weight='balanced',\n",
    "                                     classes=np.unique(y_train),\n",
    "                                     y=y_train)\n",
    "\n",
    "# Convert to dictionary format for Keras\n",
    "class_weight_dict = dict(enumerate(class_weights))\n",
    "\n",
    "\n",
    "model.add(Embedding(input_dim=vocab_size,\n",
    "                    output_dim=embedding_dim,\n",
    "                    weights=[embedding_matrix],\n",
    "                    input_length=max_len,  # use same padding length\n",
    "                    trainable=True))\n",
    "model.add(Bidirectional(LSTM(128, return_sequences=False)))\n",
    "model.add(Dropout(0.5))  # optional but helps reduce overfitting\n",
    "model.add(Dense(32, activation='relu'))\n",
    "model.add(Dense(5, activation='softmax'))  # 5 classes for ratings\n",
    "\n",
    "model.compile(loss='sparse_categorical_crossentropy', optimizer='adam', metrics=['accuracy'])\n",
    "model.summary()\n",
    "\n",
    "# Train\n",
    "early_stop = EarlyStopping(monitor='val_loss', patience=3, restore_best_weights=True)\n",
    "history = model.fit(X_train_pad, y_train, epochs=20, batch_size=64, validation_data=(X_test_pad, y_test),class_weight=class_weight_dict,callbacks=[early_stop])\n"
   ]
  },
  {
   "cell_type": "code",
   "execution_count": 89,
   "metadata": {
    "colab": {
     "base_uri": "https://localhost:8080/"
    },
    "id": "T096KlfW4NuV",
    "outputId": "f9acf9a8-699e-4636-9824-565ea443a249"
   },
   "outputs": [
    {
     "name": "stderr",
     "output_type": "stream",
     "text": [
      "WARNING:absl:You are saving your model as an HDF5 file via `model.save()` or `keras.saving.save_model(model)`. This file format is considered legacy. We recommend using instead the native Keras format, e.g. `model.save('my_model.keras')` or `keras.saving.save_model(model, 'my_model.keras')`. \n"
     ]
    }
   ],
   "source": [
    "model.save(\"/content/drive/MyDrive/fullstack_imbalanced_model1.h5\")"
   ]
  },
  {
   "cell_type": "code",
   "execution_count": 90,
   "metadata": {
    "colab": {
     "base_uri": "https://localhost:8080/"
    },
    "id": "9mEpB5w3DJIe",
    "outputId": "380fee85-dfc2-45ae-9341-3f766311e387"
   },
   "outputs": [
    {
     "name": "stdout",
     "output_type": "stream",
     "text": [
      "\u001b[1m787/787\u001b[0m \u001b[32m━━━━━━━━━━━━━━━━━━━━\u001b[0m\u001b[37m\u001b[0m \u001b[1m7s\u001b[0m 8ms/step\n",
      "              precision    recall  f1-score   support\n",
      "\n",
      "           0     0.4379    0.6334    0.5179      2518\n",
      "           1     0.4135    0.4122    0.4128      4144\n",
      "           2     0.4621    0.4503    0.4561      5930\n",
      "           3     0.5845    0.4450    0.5053      7555\n",
      "           4     0.5768    0.6734    0.6214      5037\n",
      "\n",
      "    accuracy                         0.5054     25184\n",
      "   macro avg     0.4950    0.5229    0.5027     25184\n",
      "weighted avg     0.5113    0.5054    0.5030     25184\n",
      "\n"
     ]
    }
   ],
   "source": [
    "import numpy as np\n",
    "from sklearn.metrics import classification_report\n",
    "\n",
    "# 1. Predict probabilities on test data\n",
    "y_pred_probs = model.predict(X_test_pad)\n",
    "\n",
    "# 2. Convert probabilities to predicted classes (0 to 4 for 5 classes)\n",
    "y_pred = np.argmax(y_pred_probs, axis=1)\n",
    "\n",
    "# 3. Print classification report (y_test are true labels)\n",
    "print(classification_report(y_test, y_pred, digits=4))\n"
   ]
  },
  {
   "cell_type": "code",
   "execution_count": 91,
   "metadata": {
    "colab": {
     "base_uri": "https://localhost:8080/"
    },
    "id": "4drgWBtouAkW",
    "outputId": "b9c10b35-a7b1-4173-ee95-1671e87759a5"
   },
   "outputs": [
    {
     "name": "stdout",
     "output_type": "stream",
     "text": [
      "\u001b[1m3148/3148\u001b[0m \u001b[32m━━━━━━━━━━━━━━━━━━━━\u001b[0m\u001b[37m\u001b[0m \u001b[1m25s\u001b[0m 8ms/step\n",
      "              precision    recall  f1-score   support\n",
      "\n",
      "           0       0.61      0.86      0.71     10074\n",
      "           1       0.59      0.59      0.59     16575\n",
      "           2       0.61      0.58      0.59     23718\n",
      "           3       0.73      0.56      0.64     30220\n",
      "           4       0.68      0.82      0.74     20147\n",
      "\n",
      "    accuracy                           0.65    100734\n",
      "   macro avg       0.64      0.68      0.65    100734\n",
      "weighted avg       0.66      0.65      0.65    100734\n",
      "\n"
     ]
    }
   ],
   "source": [
    "from sklearn.metrics import classification_report\n",
    "import numpy as np\n",
    "\n",
    "# Predict on training data\n",
    "y_train_pred_probs = model.predict(X_train_pad)\n",
    "y_train_pred = np.argmax(y_train_pred_probs, axis=1)\n",
    "\n",
    "# Print classification report for training data\n",
    "print(classification_report(y_train, y_train_pred))\n"
   ]
  },
  {
   "cell_type": "code",
   "execution_count": 92,
   "metadata": {
    "colab": {
     "base_uri": "https://localhost:8080/"
    },
    "id": "H8Z45bS9vP-V",
    "outputId": "f56b0932-494e-4959-a412-0fd836c71a46"
   },
   "outputs": [
    {
     "name": "stdout",
     "output_type": "stream",
     "text": [
      "\u001b[1m1/1\u001b[0m \u001b[32m━━━━━━━━━━━━━━━━━━━━\u001b[0m\u001b[37m\u001b[0m \u001b[1m0s\u001b[0m 38ms/step\n",
      "[4]\n"
     ]
    }
   ],
   "source": [
    "#  raw new text input:\n",
    "new_text = ['awesome product']\n",
    "\n",
    "# Step 1: Tokenize the new text (convert words to integer sequences)\n",
    "sequences = tokenizer.texts_to_sequences(new_text)\n",
    "\n",
    "# Step 2: Pad sequences to the same max length the model expects\n",
    "X_new = pad_sequences(sequences, maxlen=max_len, padding='post', truncating='post')\n",
    "\n",
    "# Step 3: Predict with the deep learning model\n",
    "y_pred_probs = model.predict(X_new)\n",
    "\n",
    "# Step 4: Convert probabilities to class labels (e.g., 0 to 4)\n",
    "y_pred = np.argmax(y_pred_probs, axis=1)\n",
    "\n",
    "print(y_pred)"
   ]
  },
  {
   "cell_type": "code",
   "execution_count": 92,
   "metadata": {
    "id": "pQNHWiNC4B1c"
   },
   "outputs": [],
   "source": []
  }
 ],
 "metadata": {
  "accelerator": "GPU",
  "colab": {
   "gpuType": "T4",
   "provenance": []
  },
  "kernelspec": {
   "display_name": "Python [conda env:base] *",
   "language": "python",
   "name": "conda-base-py"
  },
  "language_info": {
   "codemirror_mode": {
    "name": "ipython",
    "version": 3
   },
   "file_extension": ".py",
   "mimetype": "text/x-python",
   "name": "python",
   "nbconvert_exporter": "python",
   "pygments_lexer": "ipython3",
   "version": "3.12.7"
  }
 },
 "nbformat": 4,
 "nbformat_minor": 4
}
